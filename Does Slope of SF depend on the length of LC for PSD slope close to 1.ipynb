{
 "cells": [
  {
   "cell_type": "code",
   "execution_count": null,
   "metadata": {
    "collapsed": true
   },
   "outputs": [],
   "source": [
    "#!/usr/bin/env python2\n",
    "# -*- coding: utf-8 -*-\n",
    "\"\"\"\n",
    "Created on August 21 2018\n",
    "@author: ncaplar@princeton.edu\n",
    "\"\"\""
   ]
  },
  {
   "cell_type": "code",
   "execution_count": 1,
   "metadata": {},
   "outputs": [
    {
     "data": {
      "application/javascript": [
       "try {\n",
       "  require(['base/js/utils'], function (utils) {\n",
       "    utils.load_extension('code_prettify/code_prettify');\n",
       "    utils.load_extension('collapsible_headings/main'); \n",
       "    utils.load_extension('codefolding/edit'); \n",
       "    utils.load_extension('codefolding/main'); \n",
       "    utils.load_extension('execute_time/ExecuteTime');   \n",
       "    utils.load_extension('toc2/main'); \n",
       "  });\n",
       "}\n",
       "catch (err) {\n",
       "  console.log('toc2 load error:', err);\n",
       "}"
      ],
      "text/plain": [
       "<IPython.core.display.Javascript object>"
      ]
     },
     "metadata": {},
     "output_type": "display_data"
    }
   ],
   "source": [
    "%%javascript\n",
    "try {\n",
    "  require(['base/js/utils'], function (utils) {\n",
    "    utils.load_extension('code_prettify/code_prettify');\n",
    "    utils.load_extension('collapsible_headings/main'); \n",
    "    utils.load_extension('codefolding/edit'); \n",
    "    utils.load_extension('codefolding/main'); \n",
    "    utils.load_extension('execute_time/ExecuteTime');   \n",
    "    utils.load_extension('toc2/main'); \n",
    "  });\n",
    "}\n",
    "catch (err) {\n",
    "  console.log('toc2 load error:', err);\n",
    "}"
   ]
  },
  {
   "cell_type": "code",
   "execution_count": 2,
   "metadata": {
    "ExecuteTime": {
     "end_time": "2018-08-21T22:15:39.978675Z",
     "start_time": "2018-08-21T22:15:39.971477Z"
    }
   },
   "outputs": [
    {
     "data": {
      "text/html": [
       "<style>.container { width:100% !important; }</style>"
      ],
      "text/plain": [
       "<IPython.core.display.HTML object>"
      ]
     },
     "metadata": {},
     "output_type": "display_data"
    }
   ],
   "source": [
    "# make notebook nice and wide to fill the entire screen\n",
    "from IPython.core.display import display, HTML\n",
    "display(HTML(\"<style>.container { width:100% !important; }</style>\"))"
   ]
  },
  {
   "cell_type": "code",
   "execution_count": 113,
   "metadata": {
    "ExecuteTime": {
     "end_time": "2018-08-21T22:51:05.095847Z",
     "start_time": "2018-08-21T22:51:05.080402Z"
    },
    "collapsed": true
   },
   "outputs": [],
   "source": [
    "import numpy as np\n",
    "from matplotlib import pyplot as plt\n",
    "%matplotlib inline\n",
    "from astroML.time_series import generate_power_law\n",
    "from astroML.fourier import PSD_continuous\n",
    "import os\n",
    "import sys\n",
    "\n",
    "from scipy.optimize import curve_fit"
   ]
  },
  {
   "cell_type": "code",
   "execution_count": 114,
   "metadata": {
    "ExecuteTime": {
     "end_time": "2018-08-21T22:51:05.620270Z",
     "start_time": "2018-08-21T22:51:05.614995Z"
    },
    "collapsed": true
   },
   "outputs": [],
   "source": [
    "def SF_slope_fit(t, Norm, slope):\n",
    "    return Norm*(t)**slope"
   ]
  },
  {
   "cell_type": "code",
   "execution_count": 123,
   "metadata": {
    "ExecuteTime": {
     "end_time": "2018-08-21T23:00:20.199765Z",
     "start_time": "2018-08-21T23:00:18.107516Z"
    },
    "collapsed": true
   },
   "outputs": [],
   "source": [
    "N=10000\n",
    "dt=1\n",
    "beta=1.05\n",
    "factor=1\n",
    "\n",
    "res=[]\n",
    "for st in range(50):\n",
    "    x = factor * generate_power_law(N, dt, beta, random_state=st)\n",
    "\n",
    "    Array_of_Delta_Values=[]\n",
    "    for i in np.random.randint(1,N-1001,100):\n",
    "        if len(Array_of_Delta_Values)==0:\n",
    "            Array_of_Delta_Values=x[i]-x[i+1:i+1+1000]\n",
    "        else:\n",
    "            Array_of_Delta_Values=np.vstack((Array_of_Delta_Values,(x[i]-x[i+1:i+1+1000])))\n",
    "\n",
    "    SF2_array=[]\n",
    "    for t in range(1000):\n",
    "        SF2_array.append(np.mean(Array_of_Delta_Values[:,t]**2))\n",
    "\n",
    "    popt, pcov = curve_fit(SF_slope_fit, range(11,101), SF2_array[10:100])    \n",
    "\n",
    "    res.append(popt[1])"
   ]
  },
  {
   "cell_type": "code",
   "execution_count": 131,
   "metadata": {
    "ExecuteTime": {
     "end_time": "2018-08-21T23:01:42.556130Z",
     "start_time": "2018-08-21T23:01:42.547930Z"
    }
   },
   "outputs": [
    {
     "data": {
      "text/plain": [
       "0.22274973487659352"
      ]
     },
     "execution_count": 131,
     "metadata": {},
     "output_type": "execute_result"
    }
   ],
   "source": [
    "np.mean(res)"
   ]
  },
  {
   "cell_type": "code",
   "execution_count": 129,
   "metadata": {
    "ExecuteTime": {
     "end_time": "2018-08-21T23:01:29.223173Z",
     "start_time": "2018-08-21T23:01:26.754057Z"
    }
   },
   "outputs": [],
   "source": [
    "N=100000\n",
    "dt=1\n",
    "beta=1.05\n",
    "factor=1\n",
    "\n",
    "res=[]\n",
    "for st in range(50):\n",
    "    x = factor * generate_power_law(N, dt, beta, random_state=st)\n",
    "\n",
    "    Array_of_Delta_Values=[]\n",
    "    for i in np.random.randint(1,N-1001,100):\n",
    "        if len(Array_of_Delta_Values)==0:\n",
    "            Array_of_Delta_Values=x[i]-x[i+1:i+1+1000]\n",
    "        else:\n",
    "            Array_of_Delta_Values=np.vstack((Array_of_Delta_Values,(x[i]-x[i+1:i+1+1000])))\n",
    "\n",
    "    SF2_array=[]\n",
    "    for t in range(1000):\n",
    "        SF2_array.append(np.mean(Array_of_Delta_Values[:,t]**2))\n",
    "\n",
    "    popt, pcov = curve_fit(SF_slope_fit, range(11,101), SF2_array[10:100])    \n",
    "\n",
    "    res.append(popt[1])"
   ]
  },
  {
   "cell_type": "code",
   "execution_count": 130,
   "metadata": {
    "ExecuteTime": {
     "end_time": "2018-08-21T23:01:29.231924Z",
     "start_time": "2018-08-21T23:01:29.226004Z"
    }
   },
   "outputs": [
    {
     "data": {
      "text/plain": [
       "0.22274973487659352"
      ]
     },
     "execution_count": 130,
     "metadata": {},
     "output_type": "execute_result"
    }
   ],
   "source": [
    "np.mean(res)"
   ]
  },
  {
   "cell_type": "code",
   "execution_count": 137,
   "metadata": {
    "ExecuteTime": {
     "end_time": "2018-08-21T23:12:29.301608Z",
     "start_time": "2018-08-21T23:12:22.107159Z"
    }
   },
   "outputs": [],
   "source": [
    "N=1000000\n",
    "dt=1\n",
    "beta=1.05\n",
    "factor=1\n",
    "\n",
    "res=[]\n",
    "for st in range(50):\n",
    "    x = factor * generate_power_law(N, dt, beta, random_state=st)\n",
    "\n",
    "    Array_of_Delta_Values=[]\n",
    "    for i in np.random.randint(1,N-1001,100):\n",
    "        if len(Array_of_Delta_Values)==0:\n",
    "            Array_of_Delta_Values=x[i]-x[i+1:i+1+1000]\n",
    "        else:\n",
    "            Array_of_Delta_Values=np.vstack((Array_of_Delta_Values,(x[i]-x[i+1:i+1+1000])))\n",
    "\n",
    "    SF2_array=[]\n",
    "    for t in range(1000):\n",
    "        SF2_array.append(np.mean(Array_of_Delta_Values[:,t]**2))\n",
    "\n",
    "    popt, pcov = curve_fit(SF_slope_fit, range(11,101), SF2_array[10:100])    \n",
    "\n",
    "    res.append(popt[1])"
   ]
  },
  {
   "cell_type": "code",
   "execution_count": null,
   "metadata": {
    "collapsed": true
   },
   "outputs": [],
   "source": []
  }
 ],
 "metadata": {
  "kernelspec": {
   "display_name": "Python 2",
   "language": "python",
   "name": "python2"
  },
  "language_info": {
   "codemirror_mode": {
    "name": "ipython",
    "version": 2
   },
   "file_extension": ".py",
   "mimetype": "text/x-python",
   "name": "python",
   "nbconvert_exporter": "python",
   "pygments_lexer": "ipython2",
   "version": "2.7.14"
  },
  "toc": {
   "base_numbering": 1,
   "nav_menu": {},
   "number_sections": true,
   "sideBar": true,
   "skip_h1_title": false,
   "title_cell": "Table of Contents",
   "title_sidebar": "Contents",
   "toc_cell": false,
   "toc_position": {},
   "toc_section_display": true,
   "toc_window_display": false
  }
 },
 "nbformat": 4,
 "nbformat_minor": 2
}
