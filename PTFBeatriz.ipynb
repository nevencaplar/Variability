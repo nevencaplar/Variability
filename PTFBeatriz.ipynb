{
 "cells": [
  {
   "cell_type": "code",
   "execution_count": 262,
   "metadata": {
    "collapsed": false
   },
   "outputs": [
    {
     "name": "stdout",
     "output_type": "stream",
     "text": [
      "Current workstations: iapetus\n",
      "Current time: 2017-04-17 13:25:56.953181\n"
     ]
    }
   ],
   "source": [
    "import numpy as np\n",
    "import matplotlib.pyplot as plt\n",
    "import os\n",
    "import sys\n",
    "import csv\n",
    "import pandas as pd\n",
    "import socket\n",
    "import datetime\n",
    "print('Current workstations: '+str(socket.gethostname()))\n",
    "%matplotlib inline\n",
    "\n",
    "if socket.gethostname()=='Osian':\n",
    "    base_dir=\"/home/caplarn/Documents/Variability/PTFBeatriz/\"\n",
    "else:\n",
    "    base_dir=\"/export/data1/caplarn/Documents/Variability/PTFBeatriz/\"\n",
    "os.chdir(base_dir)   \n",
    "print('Current time: '+str(datetime.datetime.now()))            \n",
    "    "
   ]
  },
  {
   "cell_type": "code",
   "execution_count": 246,
   "metadata": {
    "collapsed": false
   },
   "outputs": [],
   "source": [
    "df = pd.read_csv('BertemesAll8_DR7.csv', delimiter=',')"
   ]
  },
  {
   "cell_type": "code",
   "execution_count": 247,
   "metadata": {
    "collapsed": true
   },
   "outputs": [],
   "source": [
    "dfoutput=pd.DataFrame(df,columns=['ra','dec'])"
   ]
  },
  {
   "cell_type": "code",
   "execution_count": 248,
   "metadata": {
    "collapsed": false
   },
   "outputs": [],
   "source": [
    "# This is a way to create ipac consistent table. More natural options would be to use astropy\n",
    "dfoutput.insert(0,'a',\"\")\n",
    "dfoutput.insert(2,'b',\"\")\n",
    "dfoutput.insert(3,'c',\"\")\n",
    "dfoutput.insert(4,'d',\"\")\n",
    "dfoutput.insert(5,'e',\"\")\n",
    "dfoutput.insert(6,'f',\"\")"
   ]
  },
  {
   "cell_type": "code",
   "execution_count": 249,
   "metadata": {
    "collapsed": false
   },
   "outputs": [],
   "source": [
    "dfoutputShort=dfoutput[:50]"
   ]
  },
  {
   "cell_type": "code",
   "execution_count": 250,
   "metadata": {
    "collapsed": false
   },
   "outputs": [
    {
     "data": {
      "text/html": [
       "<div>\n",
       "<table border=\"1\" class=\"dataframe\">\n",
       "  <thead>\n",
       "    <tr style=\"text-align: right;\">\n",
       "      <th></th>\n",
       "      <th>a</th>\n",
       "      <th>ra</th>\n",
       "      <th>b</th>\n",
       "      <th>c</th>\n",
       "      <th>d</th>\n",
       "      <th>e</th>\n",
       "      <th>f</th>\n",
       "      <th>dec</th>\n",
       "    </tr>\n",
       "  </thead>\n",
       "  <tbody>\n",
       "    <tr>\n",
       "      <th>0</th>\n",
       "      <td></td>\n",
       "      <td>148.927932</td>\n",
       "      <td></td>\n",
       "      <td></td>\n",
       "      <td></td>\n",
       "      <td></td>\n",
       "      <td></td>\n",
       "      <td>58.647339</td>\n",
       "    </tr>\n",
       "    <tr>\n",
       "      <th>1</th>\n",
       "      <td></td>\n",
       "      <td>320.413162</td>\n",
       "      <td></td>\n",
       "      <td></td>\n",
       "      <td></td>\n",
       "      <td></td>\n",
       "      <td></td>\n",
       "      <td>-6.411178</td>\n",
       "    </tr>\n",
       "    <tr>\n",
       "      <th>2</th>\n",
       "      <td></td>\n",
       "      <td>316.121264</td>\n",
       "      <td></td>\n",
       "      <td></td>\n",
       "      <td></td>\n",
       "      <td></td>\n",
       "      <td></td>\n",
       "      <td>-5.418024</td>\n",
       "    </tr>\n",
       "    <tr>\n",
       "      <th>3</th>\n",
       "      <td></td>\n",
       "      <td>325.507513</td>\n",
       "      <td></td>\n",
       "      <td></td>\n",
       "      <td></td>\n",
       "      <td></td>\n",
       "      <td></td>\n",
       "      <td>-6.556515</td>\n",
       "    </tr>\n",
       "    <tr>\n",
       "      <th>4</th>\n",
       "      <td></td>\n",
       "      <td>326.370560</td>\n",
       "      <td></td>\n",
       "      <td></td>\n",
       "      <td></td>\n",
       "      <td></td>\n",
       "      <td></td>\n",
       "      <td>-6.752017</td>\n",
       "    </tr>\n",
       "    <tr>\n",
       "      <th>5</th>\n",
       "      <td></td>\n",
       "      <td>229.306585</td>\n",
       "      <td></td>\n",
       "      <td></td>\n",
       "      <td></td>\n",
       "      <td></td>\n",
       "      <td></td>\n",
       "      <td>5.869906</td>\n",
       "    </tr>\n",
       "    <tr>\n",
       "      <th>6</th>\n",
       "      <td></td>\n",
       "      <td>151.480889</td>\n",
       "      <td></td>\n",
       "      <td></td>\n",
       "      <td></td>\n",
       "      <td></td>\n",
       "      <td></td>\n",
       "      <td>6.446596</td>\n",
       "    </tr>\n",
       "    <tr>\n",
       "      <th>7</th>\n",
       "      <td></td>\n",
       "      <td>159.677922</td>\n",
       "      <td></td>\n",
       "      <td></td>\n",
       "      <td></td>\n",
       "      <td></td>\n",
       "      <td></td>\n",
       "      <td>6.902334</td>\n",
       "    </tr>\n",
       "    <tr>\n",
       "      <th>8</th>\n",
       "      <td></td>\n",
       "      <td>131.088100</td>\n",
       "      <td></td>\n",
       "      <td></td>\n",
       "      <td></td>\n",
       "      <td></td>\n",
       "      <td></td>\n",
       "      <td>5.019645</td>\n",
       "    </tr>\n",
       "    <tr>\n",
       "      <th>9</th>\n",
       "      <td></td>\n",
       "      <td>134.908642</td>\n",
       "      <td></td>\n",
       "      <td></td>\n",
       "      <td></td>\n",
       "      <td></td>\n",
       "      <td></td>\n",
       "      <td>5.391217</td>\n",
       "    </tr>\n",
       "    <tr>\n",
       "      <th>10</th>\n",
       "      <td></td>\n",
       "      <td>158.262504</td>\n",
       "      <td></td>\n",
       "      <td></td>\n",
       "      <td></td>\n",
       "      <td></td>\n",
       "      <td></td>\n",
       "      <td>7.659740</td>\n",
       "    </tr>\n",
       "    <tr>\n",
       "      <th>11</th>\n",
       "      <td></td>\n",
       "      <td>118.841678</td>\n",
       "      <td></td>\n",
       "      <td></td>\n",
       "      <td></td>\n",
       "      <td></td>\n",
       "      <td></td>\n",
       "      <td>22.169089</td>\n",
       "    </tr>\n",
       "    <tr>\n",
       "      <th>12</th>\n",
       "      <td></td>\n",
       "      <td>226.527434</td>\n",
       "      <td></td>\n",
       "      <td></td>\n",
       "      <td></td>\n",
       "      <td></td>\n",
       "      <td></td>\n",
       "      <td>34.035012</td>\n",
       "    </tr>\n",
       "    <tr>\n",
       "      <th>13</th>\n",
       "      <td></td>\n",
       "      <td>239.615824</td>\n",
       "      <td></td>\n",
       "      <td></td>\n",
       "      <td></td>\n",
       "      <td></td>\n",
       "      <td></td>\n",
       "      <td>27.630731</td>\n",
       "    </tr>\n",
       "    <tr>\n",
       "      <th>14</th>\n",
       "      <td></td>\n",
       "      <td>223.610953</td>\n",
       "      <td></td>\n",
       "      <td></td>\n",
       "      <td></td>\n",
       "      <td></td>\n",
       "      <td></td>\n",
       "      <td>35.623481</td>\n",
       "    </tr>\n",
       "    <tr>\n",
       "      <th>15</th>\n",
       "      <td></td>\n",
       "      <td>249.917706</td>\n",
       "      <td></td>\n",
       "      <td></td>\n",
       "      <td></td>\n",
       "      <td></td>\n",
       "      <td></td>\n",
       "      <td>21.382041</td>\n",
       "    </tr>\n",
       "    <tr>\n",
       "      <th>16</th>\n",
       "      <td></td>\n",
       "      <td>121.353133</td>\n",
       "      <td></td>\n",
       "      <td></td>\n",
       "      <td></td>\n",
       "      <td></td>\n",
       "      <td></td>\n",
       "      <td>9.868040</td>\n",
       "    </tr>\n",
       "    <tr>\n",
       "      <th>17</th>\n",
       "      <td></td>\n",
       "      <td>153.254785</td>\n",
       "      <td></td>\n",
       "      <td></td>\n",
       "      <td></td>\n",
       "      <td></td>\n",
       "      <td></td>\n",
       "      <td>17.946292</td>\n",
       "    </tr>\n",
       "    <tr>\n",
       "      <th>18</th>\n",
       "      <td></td>\n",
       "      <td>104.343101</td>\n",
       "      <td></td>\n",
       "      <td></td>\n",
       "      <td></td>\n",
       "      <td></td>\n",
       "      <td></td>\n",
       "      <td>-16.697164</td>\n",
       "    </tr>\n",
       "    <tr>\n",
       "      <th>19</th>\n",
       "      <td></td>\n",
       "      <td>108.931679</td>\n",
       "      <td></td>\n",
       "      <td></td>\n",
       "      <td></td>\n",
       "      <td></td>\n",
       "      <td></td>\n",
       "      <td>-14.357955</td>\n",
       "    </tr>\n",
       "    <tr>\n",
       "      <th>20</th>\n",
       "      <td></td>\n",
       "      <td>106.846596</td>\n",
       "      <td></td>\n",
       "      <td></td>\n",
       "      <td></td>\n",
       "      <td></td>\n",
       "      <td></td>\n",
       "      <td>-14.834144</td>\n",
       "    </tr>\n",
       "    <tr>\n",
       "      <th>21</th>\n",
       "      <td></td>\n",
       "      <td>108.074126</td>\n",
       "      <td></td>\n",
       "      <td></td>\n",
       "      <td></td>\n",
       "      <td></td>\n",
       "      <td></td>\n",
       "      <td>-14.135281</td>\n",
       "    </tr>\n",
       "    <tr>\n",
       "      <th>22</th>\n",
       "      <td></td>\n",
       "      <td>111.783802</td>\n",
       "      <td></td>\n",
       "      <td></td>\n",
       "      <td></td>\n",
       "      <td></td>\n",
       "      <td></td>\n",
       "      <td>-12.197740</td>\n",
       "    </tr>\n",
       "    <tr>\n",
       "      <th>23</th>\n",
       "      <td></td>\n",
       "      <td>111.780668</td>\n",
       "      <td></td>\n",
       "      <td></td>\n",
       "      <td></td>\n",
       "      <td></td>\n",
       "      <td></td>\n",
       "      <td>-12.123469</td>\n",
       "    </tr>\n",
       "    <tr>\n",
       "      <th>24</th>\n",
       "      <td></td>\n",
       "      <td>30.597655</td>\n",
       "      <td></td>\n",
       "      <td></td>\n",
       "      <td></td>\n",
       "      <td></td>\n",
       "      <td></td>\n",
       "      <td>0.122236</td>\n",
       "    </tr>\n",
       "    <tr>\n",
       "      <th>25</th>\n",
       "      <td></td>\n",
       "      <td>271.321964</td>\n",
       "      <td></td>\n",
       "      <td></td>\n",
       "      <td></td>\n",
       "      <td></td>\n",
       "      <td></td>\n",
       "      <td>23.290572</td>\n",
       "    </tr>\n",
       "    <tr>\n",
       "      <th>26</th>\n",
       "      <td></td>\n",
       "      <td>280.106875</td>\n",
       "      <td></td>\n",
       "      <td></td>\n",
       "      <td></td>\n",
       "      <td></td>\n",
       "      <td></td>\n",
       "      <td>19.750625</td>\n",
       "    </tr>\n",
       "    <tr>\n",
       "      <th>27</th>\n",
       "      <td></td>\n",
       "      <td>328.907536</td>\n",
       "      <td></td>\n",
       "      <td></td>\n",
       "      <td></td>\n",
       "      <td></td>\n",
       "      <td></td>\n",
       "      <td>20.720405</td>\n",
       "    </tr>\n",
       "    <tr>\n",
       "      <th>28</th>\n",
       "      <td></td>\n",
       "      <td>328.940729</td>\n",
       "      <td></td>\n",
       "      <td></td>\n",
       "      <td></td>\n",
       "      <td></td>\n",
       "      <td></td>\n",
       "      <td>20.852486</td>\n",
       "    </tr>\n",
       "    <tr>\n",
       "      <th>29</th>\n",
       "      <td></td>\n",
       "      <td>312.034228</td>\n",
       "      <td></td>\n",
       "      <td></td>\n",
       "      <td></td>\n",
       "      <td></td>\n",
       "      <td></td>\n",
       "      <td>16.906524</td>\n",
       "    </tr>\n",
       "    <tr>\n",
       "      <th>30</th>\n",
       "      <td></td>\n",
       "      <td>63.865292</td>\n",
       "      <td></td>\n",
       "      <td></td>\n",
       "      <td></td>\n",
       "      <td></td>\n",
       "      <td></td>\n",
       "      <td>54.763969</td>\n",
       "    </tr>\n",
       "    <tr>\n",
       "      <th>31</th>\n",
       "      <td></td>\n",
       "      <td>64.674604</td>\n",
       "      <td></td>\n",
       "      <td></td>\n",
       "      <td></td>\n",
       "      <td></td>\n",
       "      <td></td>\n",
       "      <td>55.007241</td>\n",
       "    </tr>\n",
       "    <tr>\n",
       "      <th>32</th>\n",
       "      <td></td>\n",
       "      <td>65.888888</td>\n",
       "      <td></td>\n",
       "      <td></td>\n",
       "      <td></td>\n",
       "      <td></td>\n",
       "      <td></td>\n",
       "      <td>55.720143</td>\n",
       "    </tr>\n",
       "    <tr>\n",
       "      <th>33</th>\n",
       "      <td></td>\n",
       "      <td>66.008643</td>\n",
       "      <td></td>\n",
       "      <td></td>\n",
       "      <td></td>\n",
       "      <td></td>\n",
       "      <td></td>\n",
       "      <td>55.905710</td>\n",
       "    </tr>\n",
       "    <tr>\n",
       "      <th>34</th>\n",
       "      <td></td>\n",
       "      <td>66.172847</td>\n",
       "      <td></td>\n",
       "      <td></td>\n",
       "      <td></td>\n",
       "      <td></td>\n",
       "      <td></td>\n",
       "      <td>55.865701</td>\n",
       "    </tr>\n",
       "    <tr>\n",
       "      <th>35</th>\n",
       "      <td></td>\n",
       "      <td>66.512140</td>\n",
       "      <td></td>\n",
       "      <td></td>\n",
       "      <td></td>\n",
       "      <td></td>\n",
       "      <td></td>\n",
       "      <td>56.240788</td>\n",
       "    </tr>\n",
       "    <tr>\n",
       "      <th>36</th>\n",
       "      <td></td>\n",
       "      <td>66.771742</td>\n",
       "      <td></td>\n",
       "      <td></td>\n",
       "      <td></td>\n",
       "      <td></td>\n",
       "      <td></td>\n",
       "      <td>56.369539</td>\n",
       "    </tr>\n",
       "    <tr>\n",
       "      <th>37</th>\n",
       "      <td></td>\n",
       "      <td>68.402735</td>\n",
       "      <td></td>\n",
       "      <td></td>\n",
       "      <td></td>\n",
       "      <td></td>\n",
       "      <td></td>\n",
       "      <td>57.103108</td>\n",
       "    </tr>\n",
       "    <tr>\n",
       "      <th>38</th>\n",
       "      <td></td>\n",
       "      <td>68.849456</td>\n",
       "      <td></td>\n",
       "      <td></td>\n",
       "      <td></td>\n",
       "      <td></td>\n",
       "      <td></td>\n",
       "      <td>57.497381</td>\n",
       "    </tr>\n",
       "    <tr>\n",
       "      <th>39</th>\n",
       "      <td></td>\n",
       "      <td>70.556881</td>\n",
       "      <td></td>\n",
       "      <td></td>\n",
       "      <td></td>\n",
       "      <td></td>\n",
       "      <td></td>\n",
       "      <td>58.204346</td>\n",
       "    </tr>\n",
       "    <tr>\n",
       "      <th>40</th>\n",
       "      <td></td>\n",
       "      <td>72.034398</td>\n",
       "      <td></td>\n",
       "      <td></td>\n",
       "      <td></td>\n",
       "      <td></td>\n",
       "      <td></td>\n",
       "      <td>58.761769</td>\n",
       "    </tr>\n",
       "    <tr>\n",
       "      <th>41</th>\n",
       "      <td></td>\n",
       "      <td>75.556124</td>\n",
       "      <td></td>\n",
       "      <td></td>\n",
       "      <td></td>\n",
       "      <td></td>\n",
       "      <td></td>\n",
       "      <td>60.323466</td>\n",
       "    </tr>\n",
       "    <tr>\n",
       "      <th>42</th>\n",
       "      <td></td>\n",
       "      <td>76.411951</td>\n",
       "      <td></td>\n",
       "      <td></td>\n",
       "      <td></td>\n",
       "      <td></td>\n",
       "      <td></td>\n",
       "      <td>60.596668</td>\n",
       "    </tr>\n",
       "    <tr>\n",
       "      <th>43</th>\n",
       "      <td></td>\n",
       "      <td>256.216402</td>\n",
       "      <td></td>\n",
       "      <td></td>\n",
       "      <td></td>\n",
       "      <td></td>\n",
       "      <td></td>\n",
       "      <td>-11.197289</td>\n",
       "    </tr>\n",
       "    <tr>\n",
       "      <th>44</th>\n",
       "      <td></td>\n",
       "      <td>257.259923</td>\n",
       "      <td></td>\n",
       "      <td></td>\n",
       "      <td></td>\n",
       "      <td></td>\n",
       "      <td></td>\n",
       "      <td>-11.935287</td>\n",
       "    </tr>\n",
       "    <tr>\n",
       "      <th>45</th>\n",
       "      <td></td>\n",
       "      <td>313.646714</td>\n",
       "      <td></td>\n",
       "      <td></td>\n",
       "      <td></td>\n",
       "      <td></td>\n",
       "      <td></td>\n",
       "      <td>4.081127</td>\n",
       "    </tr>\n",
       "    <tr>\n",
       "      <th>46</th>\n",
       "      <td></td>\n",
       "      <td>322.239735</td>\n",
       "      <td></td>\n",
       "      <td></td>\n",
       "      <td></td>\n",
       "      <td></td>\n",
       "      <td></td>\n",
       "      <td>4.905153</td>\n",
       "    </tr>\n",
       "    <tr>\n",
       "      <th>47</th>\n",
       "      <td></td>\n",
       "      <td>36.478590</td>\n",
       "      <td></td>\n",
       "      <td></td>\n",
       "      <td></td>\n",
       "      <td></td>\n",
       "      <td></td>\n",
       "      <td>70.691610</td>\n",
       "    </tr>\n",
       "    <tr>\n",
       "      <th>48</th>\n",
       "      <td></td>\n",
       "      <td>37.370955</td>\n",
       "      <td></td>\n",
       "      <td></td>\n",
       "      <td></td>\n",
       "      <td></td>\n",
       "      <td></td>\n",
       "      <td>71.053558</td>\n",
       "    </tr>\n",
       "    <tr>\n",
       "      <th>49</th>\n",
       "      <td></td>\n",
       "      <td>39.351701</td>\n",
       "      <td></td>\n",
       "      <td></td>\n",
       "      <td></td>\n",
       "      <td></td>\n",
       "      <td></td>\n",
       "      <td>72.524004</td>\n",
       "    </tr>\n",
       "  </tbody>\n",
       "</table>\n",
       "</div>"
      ],
      "text/plain": [
       "   a          ra b c d e f        dec\n",
       "0     148.927932            58.647339\n",
       "1     320.413162            -6.411178\n",
       "2     316.121264            -5.418024\n",
       "3     325.507513            -6.556515\n",
       "4     326.370560            -6.752017\n",
       "5     229.306585             5.869906\n",
       "6     151.480889             6.446596\n",
       "7     159.677922             6.902334\n",
       "8     131.088100             5.019645\n",
       "9     134.908642             5.391217\n",
       "10    158.262504             7.659740\n",
       "11    118.841678            22.169089\n",
       "12    226.527434            34.035012\n",
       "13    239.615824            27.630731\n",
       "14    223.610953            35.623481\n",
       "15    249.917706            21.382041\n",
       "16    121.353133             9.868040\n",
       "17    153.254785            17.946292\n",
       "18    104.343101           -16.697164\n",
       "19    108.931679           -14.357955\n",
       "20    106.846596           -14.834144\n",
       "21    108.074126           -14.135281\n",
       "22    111.783802           -12.197740\n",
       "23    111.780668           -12.123469\n",
       "24     30.597655             0.122236\n",
       "25    271.321964            23.290572\n",
       "26    280.106875            19.750625\n",
       "27    328.907536            20.720405\n",
       "28    328.940729            20.852486\n",
       "29    312.034228            16.906524\n",
       "30     63.865292            54.763969\n",
       "31     64.674604            55.007241\n",
       "32     65.888888            55.720143\n",
       "33     66.008643            55.905710\n",
       "34     66.172847            55.865701\n",
       "35     66.512140            56.240788\n",
       "36     66.771742            56.369539\n",
       "37     68.402735            57.103108\n",
       "38     68.849456            57.497381\n",
       "39     70.556881            58.204346\n",
       "40     72.034398            58.761769\n",
       "41     75.556124            60.323466\n",
       "42     76.411951            60.596668\n",
       "43    256.216402           -11.197289\n",
       "44    257.259923           -11.935287\n",
       "45    313.646714             4.081127\n",
       "46    322.239735             4.905153\n",
       "47     36.478590            70.691610\n",
       "48     37.370955            71.053558\n",
       "49     39.351701            72.524004"
      ]
     },
     "execution_count": 250,
     "metadata": {},
     "output_type": "execute_result"
    }
   ],
   "source": [
    "dfoutputShort"
   ]
  },
  {
   "cell_type": "code",
   "execution_count": 264,
   "metadata": {
    "collapsed": false
   },
   "outputs": [
    {
     "data": {
      "text/plain": [
       "1884"
      ]
     },
     "execution_count": 264,
     "metadata": {},
     "output_type": "execute_result"
    }
   ],
   "source": [
    "len(dfoutput)"
   ]
  },
  {
   "cell_type": "code",
   "execution_count": 258,
   "metadata": {
    "collapsed": false
   },
   "outputs": [],
   "source": [
    "dfoutput.to_csv('BertemesAll8_DR7ForIPacFull.tbl', sep=' ',header=False,index=False, float_format='%.5f')"
   ]
  },
  {
   "cell_type": "code",
   "execution_count": 259,
   "metadata": {
    "collapsed": true
   },
   "outputs": [],
   "source": [
    "def line_prepender(filename, line):\n",
    "    with open(filename, 'r+') as f:\n",
    "        content = f.read()\n",
    "        f.seek(0, 0)\n",
    "        f.write(line.rstrip('\\r\\n') + '\\n' + content)"
   ]
  },
  {
   "cell_type": "code",
   "execution_count": 260,
   "metadata": {
    "collapsed": true
   },
   "outputs": [],
   "source": [
    "line_prepender('BertemesAll8_DR7ForIPacFull.tbl','|ra          |dec          |')"
   ]
  },
  {
   "cell_type": "code",
   "execution_count": null,
   "metadata": {
    "collapsed": true
   },
   "outputs": [],
   "source": [
    "# go to https://irsa.ipac.caltech.edu/cgi-bin/Gator/nph-scan?mission=irsa&submit=Select&projshort=PTF\n",
    "# Select \"PTF Lightcurve Table\"\n",
    "# upload generated table\n",
    "# cone search radius = 1 arcsec\n",
    "# if needed table validator at: http://irsa.ipac.caltech.edu/applications/TblValidator/\n",
    "# for full input table of 1884 objects it took 45 min and 43 sec to get the result; perhaps it can be faster if less \n",
    "# collumns are asked for or if one asks for just single match to radius"
   ]
  },
  {
   "cell_type": "markdown",
   "metadata": {
    "collapsed": true
   },
   "source": [
    "# Analyzing single light curve and testign code"
   ]
  },
  {
   "cell_type": "code",
   "execution_count": 154,
   "metadata": {
    "collapsed": false
   },
   "outputs": [
    {
     "name": "stdout",
     "output_type": "stream",
     "text": [
      "iapetus\n",
      "Current time: 2017-04-17 12:07:44.938097\n"
     ]
    }
   ],
   "source": [
    "import numpy as np\n",
    "import matplotlib.pyplot as plt\n",
    "import os\n",
    "import sys\n",
    "import csv\n",
    "import pandas as pd\n",
    "import datetime\n",
    "import socket\n",
    "print(socket.gethostname())\n",
    "%matplotlib inline\n",
    "\n",
    "if socket.gethostname()=='Osian':\n",
    "    base_dir=\"/home/caplarn/Documents/Variability/PTFBeatriz/\"\n",
    "else:\n",
    "    base_dir=\"/export/data1/caplarn/Documents/Variability/PTFBeatriz/\"\n",
    "    \n",
    "print('Current time: '+str(datetime.datetime.now()))        "
   ]
  },
  {
   "cell_type": "code",
   "execution_count": 33,
   "metadata": {
    "collapsed": true
   },
   "outputs": [],
   "source": [
    "def cleaning_LC(SingleLC):\n",
    "    #Take only the closest source to the input \n",
    "    SingleLC[SingleLC['dist_x']==np.min(SingleLC['dist_x'])]\n",
    "    #Taking only red filter \n",
    "    SingleLCClean1=SingleLC[SingleLC['fid']==2]\n",
    "    #Taking only photometrically calibrated points\n",
    "    SingleLCClean1=SingleLCClean1[SingleLCClean1['photcalflag']==1]\n",
    "    #Taking only goodflag=1\n",
    "    SingleLCClean1=SingleLCClean1[SingleLCClean1['goodflag']==1]\n",
    "    return SingleLCClean1\n",
    "\n",
    "from scipy.optimize import curve_fit\n",
    "def fit_func(x, a, b):\n",
    "    return a*x**2 + b\n",
    "\n",
    "from scipy.signal import medfilt2d"
   ]
  },
  {
   "cell_type": "code",
   "execution_count": 3,
   "metadata": {
    "collapsed": false
   },
   "outputs": [
    {
     "name": "stderr",
     "output_type": "stream",
     "text": [
      "/export/data1/caplarn/Resources/anaconda/lib/python2.7/site-packages/IPython/kernel/__init__.py:13: ShimWarning: The `IPython.kernel` package has been deprecated. You should import from ipykernel or jupyter_client instead.\n",
      "  \"You should import from ipykernel or jupyter_client instead.\", ShimWarning)\n"
     ]
    },
    {
     "name": "stdout",
     "output_type": "stream",
     "text": [
      "/export/data1/caplarn/Documents/Variability/PTFBeatriz/LC_50_Test/\n"
     ]
    }
   ],
   "source": [
    "import os\n",
    "from astropy.io import ascii\n",
    "lc_dir=base_dir+\"LC_50_Test/\"\n",
    "os.chdir(lc_dir)\n",
    "print(lc_dir)"
   ]
  },
  {
   "cell_type": "code",
   "execution_count": 4,
   "metadata": {
    "collapsed": false
   },
   "outputs": [],
   "source": [
    "data = ascii.read('Apr16.tbl')"
   ]
  },
  {
   "cell_type": "code",
   "execution_count": 5,
   "metadata": {
    "collapsed": false
   },
   "outputs": [
    {
     "data": {
      "text/plain": [
       "<Row -1 of table\n",
       " values=(48, 0.281616, 175.636516, 36, 71, 55821.5250672, 18.279, 0.049, 52252090014269, 36.478608, 70.691532, 2, 0, 2.475986e-07, 34, 25, 25, 18.281, 0.03, 18.303, 18.303, 18.311, 18.311, 0.049, 0.049, 10511532001884, 36.478626, 70.691537, 5225, 9, 55821.5262672, 919, 18.3, 20.631, 27.822, 2.05, 2.138, 0, 131072, 0, 1)\n",
       " dtype=[('cntr_01', '<i8'), ('dist_x', '<f8'), ('pang_x', '<f8'), ('ra_01', '<i8'), ('dec_01', '<i8'), ('obsmjd', '<f8'), ('mag_autocorr', '<f8'), ('magerr_auto', '<f8'), ('oid', '<i8'), ('ra', '<f8'), ('dec', '<f8'), ('fid', '<i8'), ('transient_flag', '<i8'), ('astrometricrms', '<f8'), ('nobs', '<i8'), ('ngoodobs', '<i8'), ('nbestobs', '<i8'), ('referencemag', '<f8'), ('referencemagerr', '<f8'), ('medianmag', '<f8'), ('bestmedianmag', '<f8'), ('meanmag', '<f8'), ('bestmeanmag', '<f8'), ('magrms', '<f8'), ('bestmagrms', '<f8'), ('sid', '<i8'), ('s_ra', '<f8'), ('s_dec', '<f8'), ('ptffield', '<i8'), ('ccdid', '<i8'), ('hmjd', '<f8'), ('nid', '<i8'), ('mag_auto', '<f8'), ('limitmag', '<f8'), ('absphotzp', '<f8'), ('fwhmsex', '<f8'), ('fwhm_image', '<f8'), ('qaflags', '<i8'), ('flags', '<i8'), ('photcalflag', '<i8'), ('goodflag', '<i8')]>"
      ]
     },
     "execution_count": 5,
     "metadata": {},
     "output_type": "execute_result"
    }
   ],
   "source": [
    "data[-1]"
   ]
  },
  {
   "cell_type": "code",
   "execution_count": 156,
   "metadata": {
    "collapsed": false
   },
   "outputs": [
    {
     "data": {
      "text/plain": [
       "15.698"
      ]
     },
     "execution_count": 156,
     "metadata": {},
     "output_type": "execute_result"
    }
   ],
   "source": [
    "np.median(SingleLC_Clean['referencemag'])"
   ]
  },
  {
   "cell_type": "code",
   "execution_count": 234,
   "metadata": {
    "collapsed": false,
    "scrolled": true
   },
   "outputs": [
    {
     "name": "stdout",
     "output_type": "stream",
     "text": [
      "12\n"
     ]
    }
   ],
   "source": [
    "n=16\n",
    "Invividual_LC_dir=lc_dir+str(n)+\"/\"\n",
    "SingleLC=data[data['cntr_01']==n]\n",
    "if len(SingleLC)>10:\n",
    "    SingleLC_Clean=cleaning_LC(SingleLC)\n",
    "    length_of_LC=len(SingleLC_Clean)\n",
    "    print(len(SingleLC_Clean))\n",
    "    if length_of_LC>10:\n",
    "        if not os.path.exists(Invividual_LC_dir):\n",
    "            os.makedirs(Invividual_LC_dir)\n"
   ]
  },
  {
   "cell_type": "code",
   "execution_count": 240,
   "metadata": {
    "collapsed": false
   },
   "outputs": [
    {
     "data": {
      "text/plain": [
       "<MaskedColumn name='ra' unit=u'degrees' format=None description=None>\n",
       "masked_array(data = [249.91769 249.91769 249.91769 249.91769 249.91769 249.91769 249.91769\n",
       " 249.91769 249.91769 249.91769 249.91769 249.91769 249.91769 249.91769\n",
       " 249.91769 249.91769 249.91769 249.91769 249.91769 249.91769 249.91769\n",
       " 249.91769 249.91769 249.91769 249.91769 249.91769 249.91769 249.91769\n",
       " 249.91769 249.91769 249.91769 249.91769 249.91769 249.91769 249.91769\n",
       " 249.91769 249.91769 249.91769 249.91769 249.91769 249.91769 249.91769\n",
       " 249.91769 249.91769 249.91769 249.91769 249.91769 249.91769 249.91769\n",
       " 249.91769 249.91769 249.91769 249.91769 249.91769 249.91769 249.91769\n",
       " 249.91769 249.91769 249.91769 249.91769 249.91769 249.91769 249.91769\n",
       " 249.91769 249.91769 249.91769 249.91769 249.91769 249.91769 249.91769\n",
       " 249.91769 249.91769 249.91769 249.91769 249.91769 249.91769 249.91769\n",
       " 249.91769 249.91769 249.91769 249.91769 249.91769 249.91769 249.91769\n",
       " 249.91769 249.91769 249.91769 249.91769 249.91769 249.91769 249.91769\n",
       " 249.91769 249.91769 249.91769 249.91769 249.917712 249.917712 249.917712\n",
       " 249.917712 249.917712 249.917712],\n",
       "             mask = [False False False False False False False False False False False False\n",
       " False False False False False False False False False False False False\n",
       " False False False False False False False False False False False False\n",
       " False False False False False False False False False False False False\n",
       " False False False False False False False False False False False False\n",
       " False False False False False False False False False False False False\n",
       " False False False False False False False False False False False False\n",
       " False False False False False False False False False False False False\n",
       " False False False False False],\n",
       "       fill_value = 1e+20)"
      ]
     },
     "execution_count": 240,
     "metadata": {},
     "output_type": "execute_result"
    }
   ],
   "source": [
    "SingleLC['ra']"
   ]
  },
  {
   "cell_type": "code",
   "execution_count": 235,
   "metadata": {
    "collapsed": false
   },
   "outputs": [],
   "source": [
    "ligth_curve=np.sort(np.c_[np.ma.getdata(SingleLC_Clean['mag_autocorr']),np.ma.getdata(SingleLC_Clean['obsmjd'])])\n",
    "helplc=np.copy(ligth_curve[:,0])\n",
    "ligth_curve[:,0]=ligth_curve[:,1]\n",
    "ligth_curve[:,1]=helplc\n",
    "ligth_curve_sort=ligth_curve[ligth_curve[:,0].argsort()]\n",
    "#err=np.ma.getdata(SingleLC_Clean['referencemagerr'])\n",
    "time_duration_of_LC=ligth_curve_sort[-1][0]-ligth_curve_sort[0][0]"
   ]
  },
  {
   "cell_type": "code",
   "execution_count": 236,
   "metadata": {
    "collapsed": false
   },
   "outputs": [
    {
     "name": "stderr",
     "output_type": "stream",
     "text": [
      "/export/data1/caplarn/Resources/anaconda/lib/python2.7/site-packages/ipykernel/__main__.py:4: VisibleDeprecationWarning: boolean index did not match indexed array along dimension 0; dimension is 24 but corresponding boolean dimension is 12\n"
     ]
    }
   ],
   "source": [
    "from scipy.signal import medfilt2d\n",
    "ligth_curve_sort=np.copy(ligth_curve_sort[ligth_curve_sort[:,1]>0])\n",
    "TimesAndDifferencesFromMedian=np.column_stack((ligth_curve_sort[:,0],ligth_curve_sort[:,1]-medfilt(ligth_curve_sort[:,1],5)))\n",
    "ligth_curve_sort_and_clean=ligth_curve_presort[np.abs(TimesAndDifferencesFromMedian[:,1])<0.5]"
   ]
  },
  {
   "cell_type": "code",
   "execution_count": 237,
   "metadata": {
    "collapsed": false
   },
   "outputs": [
    {
     "data": {
      "text/plain": [
       "12"
      ]
     },
     "execution_count": 237,
     "metadata": {},
     "output_type": "execute_result"
    }
   ],
   "source": [
    "len(ligth_curve_sort[:,1]>0)"
   ]
  },
  {
   "cell_type": "code",
   "execution_count": 238,
   "metadata": {
    "collapsed": false
   },
   "outputs": [
    {
     "data": {
      "image/png": "[encoded data removed]",
      "text/plain": [
       "<matplotlib.figure.Figure at 0x7f2252452fd0>"
      ]
     },
     "metadata": {},
     "output_type": "display_data"
    }
   ],
   "source": [
    "x_log=ligth_curve_sort_and_clean[:,0]\n",
    "y_log=ligth_curve_sort_and_clean[:,1]\n",
    "plt.errorbar(x_log, y_log,label=str(SingleLC_Clean[0][0]),marker='o')\n",
    "legend = plt.legend(loc='upper right', shadow=True)\n",
    "plt.xlabel('MJD')\n",
    "plt.ylabel('mag')\n",
    "plt.savefig(Invividual_LC_dir + 'LcWithError.png', bbox_inches='tight')\n",
    "plt.show()\n",
    "plt.close()"
   ]
  },
  {
   "cell_type": "code",
   "execution_count": 227,
   "metadata": {
    "collapsed": false
   },
   "outputs": [],
   "source": [
    "array_of_magnitude_differences = [];\n",
    "for n in range(len(ligth_curve_sort_and_clean)-1):\n",
    "    array_of_magnitude_differences.append(ligth_curve_sort_and_clean[n]-ligth_curve_sort_and_clean[n+1:])\n",
    "array_of_magnitude_differences=np.vstack(array_of_magnitude_differences)\n",
    "array_of_magnitude_differences[:,0]=array_of_magnitude_differences[:,0]*(-1)"
   ]
  },
  {
   "cell_type": "code",
   "execution_count": 228,
   "metadata": {
    "collapsed": false
   },
   "outputs": [],
   "source": [
    "#log SF^2\n",
    "Structure_Function_Log_Bins = [];\n",
    "Array_Of_Log_Limits=np.percentile(np.log10(array_of_magnitude_differences[:,0]),range(0,100,5))\n",
    "for n in range(1,len(Array_Of_Log_Limits)-1):\n",
    "    single_bin=array_of_magnitude_differences[((Array_Of_Log_Limits[n])<=(np.log10(array_of_magnitude_differences[:,0])))&((np.log10(array_of_magnitude_differences[:,0]))<=Array_Of_Log_Limits[n+1])]   \n",
    "    Structure_Function_Log_Bins.append([np.mean(single_bin[:,0]),np.var(single_bin[:,1])])\n",
    "Structure_Function_Log_Bins=np.vstack(Structure_Function_Log_Bins)"
   ]
  },
  {
   "cell_type": "code",
   "execution_count": 229,
   "metadata": {
    "collapsed": false
   },
   "outputs": [
    {
     "data": {
      "text/plain": [
       "[<matplotlib.lines.Line2D at 0x7f224749e2d0>]"
      ]
     },
     "execution_count": 229,
     "metadata": {},
     "output_type": "execute_result"
    },
    {
     "data": {
      "image/png": "[encoded data removed]",
      "text/plain": [
       "<matplotlib.figure.Figure at 0x7f22475c84d0>"
      ]
     },
     "metadata": {},
     "output_type": "display_data"
    }
   ],
   "source": [
    "x_log=array_of_magnitude_differences[:,0]\n",
    "y_log=array_of_magnitude_differences[:,1]\n",
    "plt.plot(x_log,y_log,'ro')"
   ]
  },
  {
   "cell_type": "code",
   "execution_count": 230,
   "metadata": {
    "collapsed": true
   },
   "outputs": [],
   "source": [
    "x=Structure_Function_Log_Bins[:,0]\n",
    "y=Structure_Function_Log_Bins[:,1]\n",
    "x_log=np.log10(Structure_Function_Log_Bins[:,0])\n",
    "y_log=np.log10(Structure_Function_Log_Bins[:,1])"
   ]
  },
  {
   "cell_type": "code",
   "execution_count": 231,
   "metadata": {
    "collapsed": false
   },
   "outputs": [],
   "source": [
    "params = curve_fit(fit_func, x, y)\n",
    "\n",
    "[a, b] = params[0]"
   ]
  },
  {
   "cell_type": "code",
   "execution_count": 232,
   "metadata": {
    "collapsed": false
   },
   "outputs": [
    {
     "data": {
      "image/png": "[encoded data removed]",
      "text/plain": [
       "<matplotlib.figure.Figure at 0x7f22467d0ed0>"
      ]
     },
     "metadata": {},
     "output_type": "display_data"
    }
   ],
   "source": [
    "x_log=np.log10(Structure_Function_Log_Bins[:,0])\n",
    "y_log=np.log10(Structure_Function_Log_Bins[:,1])\n",
    "plt.plot(x_log,y_log,label='data',marker='o')\n",
    "plt.plot(x_log,np.log10(fit_func(x,a,b)), 'r--',marker='o',label='fit')\n",
    "legend = plt.legend(loc='upper left', shadow=True)\n",
    "plt.xlabel('Log(Delta time [days])')\n",
    "plt.ylabel('Log(Variance)')\n",
    "fig = plt.gcf()\n",
    "#plt.savefig(path_figs + 'LogOrLin.pdf', bbox_inches='tight')\n",
    "plt.savefig(Invividual_LC_dir + 'SF.png', bbox_inches='tight')\n",
    "plt.show()\n",
    "plt.close()"
   ]
  },
  {
   "cell_type": "markdown",
   "metadata": {},
   "source": [
    "# Total code"
   ]
  },
  {
   "cell_type": "code",
   "execution_count": 270,
   "metadata": {
    "collapsed": false
   },
   "outputs": [
    {
     "name": "stdout",
     "output_type": "stream",
     "text": [
      "99.8938992042\n"
     ]
    }
   ],
   "source": [
    "lc_dir=base_dir+\"LC_Full/\"\n",
    "os.chdir(lc_dir)\n",
    "\n",
    "data = ascii.read('ptf.ptf_lightcurves26083.tbl')\n",
    "\n",
    "arr = np.empty((0,6), int)\n",
    "TotalNumberOfLC=data[-1][0]\n",
    "for nv in range(0,TotalNumberOfLC):\n",
    "    print \"Progres\"+\"\\r{0}\".format((float(nv)/(TotalNumberOfLC+1))*100),\n",
    "    Invividual_LC_dir=lc_dir+str(nv)+\"/\"\n",
    "    SingleLC=data[data['cntr_01']==nv]\n",
    "    if len(SingleLC)>10:\n",
    "        SingleLC_Clean=cleaning_LC(SingleLC)\n",
    "        length_of_LC=len(SingleLC_Clean)\n",
    "        if length_of_LC>10:\n",
    "            if not os.path.exists(Invividual_LC_dir):\n",
    "                os.makedirs(Invividual_LC_dir)\n",
    "            #construct light curve    \n",
    "            ligth_curve=np.sort(np.c_[np.ma.getdata(SingleLC_Clean['mag_autocorr']),np.ma.getdata(SingleLC_Clean['obsmjd'])])\n",
    "            #very stupid way to change columns so that first collumn is date, second magnitude  \n",
    "            helplc=np.copy(ligth_curve[:,0])\n",
    "            ligth_curve[:,0]=ligth_curve[:,1]\n",
    "            ligth_curve[:,1]=helplc\n",
    "            ligth_curve_sort=ligth_curve[ligth_curve[:,0].argsort()]\n",
    "            #remove observations for which the observed magnitude is below zero\n",
    "            ligth_curve_sort=ligth_curve_sort[ligth_curve_sort[:,1]>0]\n",
    "            #time difference between the first and the last observation\n",
    "            time_duration_of_LC=ligth_curve_sort[-1][0]-ligth_curve_sort[0][0]\n",
    "            #very rough cleaning of the light curve, employing 0.5 mag cut from the median light curve (5 observations wide bin)\n",
    "            TimesAndDifferencesFromMedian=np.column_stack((ligth_curve_sort[:,0],ligth_curve_sort[:,1]-medfilt(ligth_curve_sort[:,1],5)))\n",
    "            ligth_curve_sort_and_clean=ligth_curve_sort[np.abs(TimesAndDifferencesFromMedian[:,1])<0.5]\n",
    "            #plot the light curve\n",
    "            x_log=ligth_curve_sort_and_clean[:,0]\n",
    "            y_log=ligth_curve_sort_and_clean[:,1]\n",
    "            plt.errorbar(x_log, y_log,label=str(SingleLC_Clean[0][0]),marker='o')\n",
    "            legend = plt.legend(loc='lower right', shadow=True)\n",
    "            plt.xlabel('MJD')\n",
    "            plt.ylabel('mag')\n",
    "            plt.savefig(Invividual_LC_dir + 'LcWithError.png', bbox_inches='tight')\n",
    "            #plt.show() - uncomment if you want to show the figure in this notebook\n",
    "            plt.close()\n",
    "            #computing SF**2\n",
    "            array_of_magnitude_differences = [];\n",
    "            for n in range(len(ligth_curve_sort_and_clean)-1):\n",
    "                array_of_magnitude_differences.append(ligth_curve_sort_and_clean[n]-ligth_curve_sort_and_clean[n+1:])\n",
    "            array_of_magnitude_differences=np.vstack(array_of_magnitude_differences)\n",
    "            array_of_magnitude_differences[:,0]=array_of_magnitude_differences[:,0]*(-1)\n",
    "            Structure_Function_Log_Bins = [];\n",
    "            Array_Of_Log_Limits=np.percentile(np.log10(array_of_magnitude_differences[:,0]),range(0,100,5))\n",
    "            for n in range(1,len(Array_Of_Log_Limits)-1):\n",
    "                single_bin=array_of_magnitude_differences[((Array_Of_Log_Limits[n])<=(np.log10(array_of_magnitude_differences[:,0])))&((np.log10(array_of_magnitude_differences[:,0]))<=Array_Of_Log_Limits[n+1])]   \n",
    "                Structure_Function_Log_Bins.append([np.mean(single_bin[:,0]),np.var(single_bin[:,1])])\n",
    "            Structure_Function_Log_Bins=np.vstack(Structure_Function_Log_Bins)\n",
    "            #Plot the SF**2\n",
    "            x_log=array_of_magnitude_differences[:,0]\n",
    "            y_log=array_of_magnitude_differences[:,1]\n",
    "            x=Structure_Function_Log_Bins[:,0]\n",
    "            y=Structure_Function_Log_Bins[:,1]\n",
    "            x_log=np.log10(Structure_Function_Log_Bins[:,0])\n",
    "            y_log=np.log10(Structure_Function_Log_Bins[:,1])\n",
    "            params = curve_fit(fit_func, x, y)\n",
    "            [a, b] = params[0]\n",
    "            x_log=np.log10(Structure_Function_Log_Bins[:,0])\n",
    "            y_log=np.log10(Structure_Function_Log_Bins[:,1])\n",
    "            plt.plot(x_log,y_log,label='data',marker='o')\n",
    "            plt.plot(x_log,np.log10(fit_func(x,a,b)), 'r--',marker='o',label='fit')\n",
    "            legend = plt.legend(loc='lower right', shadow=True)\n",
    "            plt.xlabel('Log(Delta time [days])')\n",
    "            plt.ylabel('Log(Variance)')\n",
    "            fig = plt.gcf()\n",
    "            plt.savefig(Invividual_LC_dir + 'SF.png', bbox_inches='tight')\n",
    "            #plt.show()  - uncomment if you want to show the figure in this notebook\n",
    "            plt.close()\n",
    "            #add the value in the numpy array\n",
    "            arr = np.append(arr, np.array([[nv,a,b,len(ligth_curve_sort_and_clean),np.max(array_of_magnitude_differences[:,0]),np.median(SingleLC_Clean['referencemag'])]]), axis=0)"
   ]
  },
  {
   "cell_type": "code",
   "execution_count": 271,
   "metadata": {
    "collapsed": false
   },
   "outputs": [],
   "source": [
    "# create pandas dataframe havign the summary of the analysis\n",
    "summary=pd.DataFrame(data=arr[0:,1:],index=arr[0:,0],columns=['a','b','n_obsv','Delta_t','mag'])"
   ]
  },
  {
   "cell_type": "code",
   "execution_count": 272,
   "metadata": {
    "collapsed": false
   },
   "outputs": [
    {
     "data": {
      "text/html": [
       "<div>\n",
       "<table border=\"1\" class=\"dataframe\">\n",
       "  <thead>\n",
       "    <tr style=\"text-align: right;\">\n",
       "      <th></th>\n",
       "      <th>a</th>\n",
       "      <th>b</th>\n",
       "      <th>n_obsv</th>\n",
       "      <th>Delta_t</th>\n",
       "      <th>mag</th>\n",
       "    </tr>\n",
       "  </thead>\n",
       "  <tbody>\n",
       "    <tr>\n",
       "      <th>1.0</th>\n",
       "      <td>-2.680724e-08</td>\n",
       "      <td>0.040775</td>\n",
       "      <td>28.0</td>\n",
       "      <td>373.96306</td>\n",
       "      <td>19.424</td>\n",
       "    </tr>\n",
       "    <tr>\n",
       "      <th>6.0</th>\n",
       "      <td>-1.852071e-07</td>\n",
       "      <td>0.002414</td>\n",
       "      <td>62.0</td>\n",
       "      <td>337.09354</td>\n",
       "      <td>18.028</td>\n",
       "    </tr>\n",
       "    <tr>\n",
       "      <th>7.0</th>\n",
       "      <td>-4.449947e-09</td>\n",
       "      <td>0.010728</td>\n",
       "      <td>23.0</td>\n",
       "      <td>1406.26669</td>\n",
       "      <td>18.338</td>\n",
       "    </tr>\n",
       "    <tr>\n",
       "      <th>8.0</th>\n",
       "      <td>-3.541916e-09</td>\n",
       "      <td>0.015740</td>\n",
       "      <td>56.0</td>\n",
       "      <td>1507.14889</td>\n",
       "      <td>18.363</td>\n",
       "    </tr>\n",
       "    <tr>\n",
       "      <th>10.0</th>\n",
       "      <td>-6.104179e-05</td>\n",
       "      <td>0.036631</td>\n",
       "      <td>18.0</td>\n",
       "      <td>31.11950</td>\n",
       "      <td>17.751</td>\n",
       "    </tr>\n",
       "    <tr>\n",
       "      <th>11.0</th>\n",
       "      <td>-1.852526e-08</td>\n",
       "      <td>0.005603</td>\n",
       "      <td>22.0</td>\n",
       "      <td>434.01071</td>\n",
       "      <td>16.977</td>\n",
       "    </tr>\n",
       "    <tr>\n",
       "      <th>12.0</th>\n",
       "      <td>-1.828311e-08</td>\n",
       "      <td>0.008031</td>\n",
       "      <td>77.0</td>\n",
       "      <td>384.35496</td>\n",
       "      <td>18.526</td>\n",
       "    </tr>\n",
       "    <tr>\n",
       "      <th>13.0</th>\n",
       "      <td>-6.052254e-08</td>\n",
       "      <td>0.021532</td>\n",
       "      <td>62.0</td>\n",
       "      <td>392.97989</td>\n",
       "      <td>18.901</td>\n",
       "    </tr>\n",
       "    <tr>\n",
       "      <th>15.0</th>\n",
       "      <td>-4.578020e-08</td>\n",
       "      <td>0.019107</td>\n",
       "      <td>72.0</td>\n",
       "      <td>392.97989</td>\n",
       "      <td>18.993</td>\n",
       "    </tr>\n",
       "    <tr>\n",
       "      <th>16.0</th>\n",
       "      <td>1.200225e-06</td>\n",
       "      <td>0.026167</td>\n",
       "      <td>12.0</td>\n",
       "      <td>72.91513</td>\n",
       "      <td>19.612</td>\n",
       "    </tr>\n",
       "    <tr>\n",
       "      <th>17.0</th>\n",
       "      <td>-1.313716e-09</td>\n",
       "      <td>0.008129</td>\n",
       "      <td>24.0</td>\n",
       "      <td>1803.03786</td>\n",
       "      <td>17.810</td>\n",
       "    </tr>\n",
       "    <tr>\n",
       "      <th>18.0</th>\n",
       "      <td>7.177520e-10</td>\n",
       "      <td>0.000756</td>\n",
       "      <td>34.0</td>\n",
       "      <td>1414.17868</td>\n",
       "      <td>15.698</td>\n",
       "    </tr>\n",
       "    <tr>\n",
       "      <th>90.0</th>\n",
       "      <td>-3.392973e-08</td>\n",
       "      <td>0.040179</td>\n",
       "      <td>11.0</td>\n",
       "      <td>770.71314</td>\n",
       "      <td>19.722</td>\n",
       "    </tr>\n",
       "    <tr>\n",
       "      <th>91.0</th>\n",
       "      <td>2.265816e-09</td>\n",
       "      <td>0.000371</td>\n",
       "      <td>223.0</td>\n",
       "      <td>1784.05772</td>\n",
       "      <td>14.790</td>\n",
       "    </tr>\n",
       "    <tr>\n",
       "      <th>95.0</th>\n",
       "      <td>2.195158e-09</td>\n",
       "      <td>0.002477</td>\n",
       "      <td>23.0</td>\n",
       "      <td>803.90163</td>\n",
       "      <td>18.217</td>\n",
       "    </tr>\n",
       "    <tr>\n",
       "      <th>96.0</th>\n",
       "      <td>-2.233255e-08</td>\n",
       "      <td>0.096563</td>\n",
       "      <td>25.0</td>\n",
       "      <td>888.79562</td>\n",
       "      <td>20.785</td>\n",
       "    </tr>\n",
       "    <tr>\n",
       "      <th>99.0</th>\n",
       "      <td>3.490880e-09</td>\n",
       "      <td>0.005794</td>\n",
       "      <td>75.0</td>\n",
       "      <td>1774.00404</td>\n",
       "      <td>18.163</td>\n",
       "    </tr>\n",
       "    <tr>\n",
       "      <th>100.0</th>\n",
       "      <td>-4.187871e-05</td>\n",
       "      <td>0.021408</td>\n",
       "      <td>21.0</td>\n",
       "      <td>24.28407</td>\n",
       "      <td>18.727</td>\n",
       "    </tr>\n",
       "    <tr>\n",
       "      <th>117.0</th>\n",
       "      <td>1.051445e-11</td>\n",
       "      <td>0.001721</td>\n",
       "      <td>74.0</td>\n",
       "      <td>1825.20439</td>\n",
       "      <td>17.479</td>\n",
       "    </tr>\n",
       "    <tr>\n",
       "      <th>197.0</th>\n",
       "      <td>-1.123458e-08</td>\n",
       "      <td>0.022227</td>\n",
       "      <td>28.0</td>\n",
       "      <td>777.76999</td>\n",
       "      <td>18.030</td>\n",
       "    </tr>\n",
       "    <tr>\n",
       "      <th>199.0</th>\n",
       "      <td>-3.365345e-09</td>\n",
       "      <td>0.006882</td>\n",
       "      <td>111.0</td>\n",
       "      <td>1481.26134</td>\n",
       "      <td>18.322</td>\n",
       "    </tr>\n",
       "    <tr>\n",
       "      <th>200.0</th>\n",
       "      <td>8.248524e-09</td>\n",
       "      <td>0.048673</td>\n",
       "      <td>102.0</td>\n",
       "      <td>1145.19753</td>\n",
       "      <td>19.544</td>\n",
       "    </tr>\n",
       "    <tr>\n",
       "      <th>201.0</th>\n",
       "      <td>1.736148e-06</td>\n",
       "      <td>0.031734</td>\n",
       "      <td>12.0</td>\n",
       "      <td>72.91513</td>\n",
       "      <td>19.556</td>\n",
       "    </tr>\n",
       "    <tr>\n",
       "      <th>202.0</th>\n",
       "      <td>1.324626e-09</td>\n",
       "      <td>0.000963</td>\n",
       "      <td>226.0</td>\n",
       "      <td>1427.02771</td>\n",
       "      <td>17.218</td>\n",
       "    </tr>\n",
       "    <tr>\n",
       "      <th>203.0</th>\n",
       "      <td>-1.727544e-08</td>\n",
       "      <td>0.015560</td>\n",
       "      <td>19.0</td>\n",
       "      <td>666.06943</td>\n",
       "      <td>18.949</td>\n",
       "    </tr>\n",
       "    <tr>\n",
       "      <th>205.0</th>\n",
       "      <td>1.346528e-08</td>\n",
       "      <td>0.010782</td>\n",
       "      <td>19.0</td>\n",
       "      <td>1395.98827</td>\n",
       "      <td>18.877</td>\n",
       "    </tr>\n",
       "    <tr>\n",
       "      <th>207.0</th>\n",
       "      <td>-1.793860e-08</td>\n",
       "      <td>0.019251</td>\n",
       "      <td>120.0</td>\n",
       "      <td>1086.14127</td>\n",
       "      <td>19.413</td>\n",
       "    </tr>\n",
       "    <tr>\n",
       "      <th>208.0</th>\n",
       "      <td>1.555432e-10</td>\n",
       "      <td>0.001813</td>\n",
       "      <td>82.0</td>\n",
       "      <td>1889.01476</td>\n",
       "      <td>17.931</td>\n",
       "    </tr>\n",
       "    <tr>\n",
       "      <th>263.0</th>\n",
       "      <td>2.954635e-09</td>\n",
       "      <td>0.000341</td>\n",
       "      <td>215.0</td>\n",
       "      <td>1338.70162</td>\n",
       "      <td>15.994</td>\n",
       "    </tr>\n",
       "    <tr>\n",
       "      <th>265.0</th>\n",
       "      <td>6.391272e-08</td>\n",
       "      <td>0.006158</td>\n",
       "      <td>47.0</td>\n",
       "      <td>60.99607</td>\n",
       "      <td>17.986</td>\n",
       "    </tr>\n",
       "    <tr>\n",
       "      <th>...</th>\n",
       "      <td>...</td>\n",
       "      <td>...</td>\n",
       "      <td>...</td>\n",
       "      <td>...</td>\n",
       "      <td>...</td>\n",
       "    </tr>\n",
       "    <tr>\n",
       "      <th>1574.0</th>\n",
       "      <td>-6.878182e-07</td>\n",
       "      <td>0.014638</td>\n",
       "      <td>95.0</td>\n",
       "      <td>58.89533</td>\n",
       "      <td>17.910</td>\n",
       "    </tr>\n",
       "    <tr>\n",
       "      <th>1576.0</th>\n",
       "      <td>-5.091757e-10</td>\n",
       "      <td>0.006504</td>\n",
       "      <td>80.0</td>\n",
       "      <td>1991.33621</td>\n",
       "      <td>18.227</td>\n",
       "    </tr>\n",
       "    <tr>\n",
       "      <th>1586.0</th>\n",
       "      <td>-2.808009e-09</td>\n",
       "      <td>0.046014</td>\n",
       "      <td>152.0</td>\n",
       "      <td>1879.24528</td>\n",
       "      <td>19.585</td>\n",
       "    </tr>\n",
       "    <tr>\n",
       "      <th>1587.0</th>\n",
       "      <td>-4.946995e-09</td>\n",
       "      <td>0.015839</td>\n",
       "      <td>15.0</td>\n",
       "      <td>1144.14193</td>\n",
       "      <td>16.518</td>\n",
       "    </tr>\n",
       "    <tr>\n",
       "      <th>1588.0</th>\n",
       "      <td>2.555419e-08</td>\n",
       "      <td>0.009481</td>\n",
       "      <td>102.0</td>\n",
       "      <td>1440.22100</td>\n",
       "      <td>18.486</td>\n",
       "    </tr>\n",
       "    <tr>\n",
       "      <th>1655.0</th>\n",
       "      <td>-7.133519e-09</td>\n",
       "      <td>0.015665</td>\n",
       "      <td>44.0</td>\n",
       "      <td>480.94727</td>\n",
       "      <td>18.450</td>\n",
       "    </tr>\n",
       "    <tr>\n",
       "      <th>1658.0</th>\n",
       "      <td>-2.072683e-08</td>\n",
       "      <td>0.076265</td>\n",
       "      <td>12.0</td>\n",
       "      <td>1382.11392</td>\n",
       "      <td>20.529</td>\n",
       "    </tr>\n",
       "    <tr>\n",
       "      <th>1661.0</th>\n",
       "      <td>-5.624774e-07</td>\n",
       "      <td>0.053828</td>\n",
       "      <td>292.0</td>\n",
       "      <td>1116.28860</td>\n",
       "      <td>19.245</td>\n",
       "    </tr>\n",
       "    <tr>\n",
       "      <th>1663.0</th>\n",
       "      <td>-9.779867e-10</td>\n",
       "      <td>0.000315</td>\n",
       "      <td>73.0</td>\n",
       "      <td>394.93802</td>\n",
       "      <td>0.000</td>\n",
       "    </tr>\n",
       "    <tr>\n",
       "      <th>1664.0</th>\n",
       "      <td>-5.741390e-09</td>\n",
       "      <td>0.016098</td>\n",
       "      <td>16.0</td>\n",
       "      <td>1143.99063</td>\n",
       "      <td>19.383</td>\n",
       "    </tr>\n",
       "    <tr>\n",
       "      <th>1665.0</th>\n",
       "      <td>-1.978945e-10</td>\n",
       "      <td>0.001602</td>\n",
       "      <td>25.0</td>\n",
       "      <td>1764.27118</td>\n",
       "      <td>16.584</td>\n",
       "    </tr>\n",
       "    <tr>\n",
       "      <th>1666.0</th>\n",
       "      <td>-2.763986e-09</td>\n",
       "      <td>0.021049</td>\n",
       "      <td>22.0</td>\n",
       "      <td>1147.13027</td>\n",
       "      <td>16.800</td>\n",
       "    </tr>\n",
       "    <tr>\n",
       "      <th>1671.0</th>\n",
       "      <td>-1.510213e-10</td>\n",
       "      <td>0.011109</td>\n",
       "      <td>228.0</td>\n",
       "      <td>1875.06767</td>\n",
       "      <td>17.866</td>\n",
       "    </tr>\n",
       "    <tr>\n",
       "      <th>1733.0</th>\n",
       "      <td>8.054849e-06</td>\n",
       "      <td>0.030208</td>\n",
       "      <td>22.0</td>\n",
       "      <td>37.01064</td>\n",
       "      <td>19.610</td>\n",
       "    </tr>\n",
       "    <tr>\n",
       "      <th>1735.0</th>\n",
       "      <td>-1.041445e-08</td>\n",
       "      <td>0.014758</td>\n",
       "      <td>15.0</td>\n",
       "      <td>756.08300</td>\n",
       "      <td>19.568</td>\n",
       "    </tr>\n",
       "    <tr>\n",
       "      <th>1736.0</th>\n",
       "      <td>-1.437405e-09</td>\n",
       "      <td>0.007340</td>\n",
       "      <td>37.0</td>\n",
       "      <td>790.10667</td>\n",
       "      <td>17.969</td>\n",
       "    </tr>\n",
       "    <tr>\n",
       "      <th>1737.0</th>\n",
       "      <td>-8.576410e-09</td>\n",
       "      <td>0.007495</td>\n",
       "      <td>216.0</td>\n",
       "      <td>1139.86383</td>\n",
       "      <td>18.418</td>\n",
       "    </tr>\n",
       "    <tr>\n",
       "      <th>1740.0</th>\n",
       "      <td>-1.465467e-08</td>\n",
       "      <td>0.011082</td>\n",
       "      <td>13.0</td>\n",
       "      <td>766.25132</td>\n",
       "      <td>18.897</td>\n",
       "    </tr>\n",
       "    <tr>\n",
       "      <th>1741.0</th>\n",
       "      <td>-4.154795e-10</td>\n",
       "      <td>0.000491</td>\n",
       "      <td>20.0</td>\n",
       "      <td>750.09413</td>\n",
       "      <td>17.297</td>\n",
       "    </tr>\n",
       "    <tr>\n",
       "      <th>1742.0</th>\n",
       "      <td>-2.072547e-09</td>\n",
       "      <td>0.005392</td>\n",
       "      <td>71.0</td>\n",
       "      <td>1363.31009</td>\n",
       "      <td>17.888</td>\n",
       "    </tr>\n",
       "    <tr>\n",
       "      <th>1744.0</th>\n",
       "      <td>-3.560618e-09</td>\n",
       "      <td>0.005733</td>\n",
       "      <td>25.0</td>\n",
       "      <td>1396.25652</td>\n",
       "      <td>17.181</td>\n",
       "    </tr>\n",
       "    <tr>\n",
       "      <th>1745.0</th>\n",
       "      <td>1.295202e-07</td>\n",
       "      <td>0.059875</td>\n",
       "      <td>221.0</td>\n",
       "      <td>1794.00617</td>\n",
       "      <td>20.370</td>\n",
       "    </tr>\n",
       "    <tr>\n",
       "      <th>1747.0</th>\n",
       "      <td>-7.683093e-08</td>\n",
       "      <td>0.017312</td>\n",
       "      <td>66.0</td>\n",
       "      <td>326.11016</td>\n",
       "      <td>18.905</td>\n",
       "    </tr>\n",
       "    <tr>\n",
       "      <th>1757.0</th>\n",
       "      <td>-1.509490e-05</td>\n",
       "      <td>0.030429</td>\n",
       "      <td>26.0</td>\n",
       "      <td>34.04384</td>\n",
       "      <td>18.953</td>\n",
       "    </tr>\n",
       "    <tr>\n",
       "      <th>1811.0</th>\n",
       "      <td>-9.368251e-10</td>\n",
       "      <td>0.002615</td>\n",
       "      <td>25.0</td>\n",
       "      <td>1397.02025</td>\n",
       "      <td>18.315</td>\n",
       "    </tr>\n",
       "    <tr>\n",
       "      <th>1812.0</th>\n",
       "      <td>-1.281993e-07</td>\n",
       "      <td>0.030049</td>\n",
       "      <td>39.0</td>\n",
       "      <td>660.35213</td>\n",
       "      <td>18.642</td>\n",
       "    </tr>\n",
       "    <tr>\n",
       "      <th>1813.0</th>\n",
       "      <td>-1.129723e-08</td>\n",
       "      <td>0.007872</td>\n",
       "      <td>46.0</td>\n",
       "      <td>1001.09031</td>\n",
       "      <td>18.443</td>\n",
       "    </tr>\n",
       "    <tr>\n",
       "      <th>1814.0</th>\n",
       "      <td>-1.557385e-09</td>\n",
       "      <td>0.017738</td>\n",
       "      <td>41.0</td>\n",
       "      <td>1991.33621</td>\n",
       "      <td>18.996</td>\n",
       "    </tr>\n",
       "    <tr>\n",
       "      <th>1815.0</th>\n",
       "      <td>-3.284433e-09</td>\n",
       "      <td>0.011458</td>\n",
       "      <td>50.0</td>\n",
       "      <td>1890.92819</td>\n",
       "      <td>17.769</td>\n",
       "    </tr>\n",
       "    <tr>\n",
       "      <th>1817.0</th>\n",
       "      <td>-6.913238e-10</td>\n",
       "      <td>0.009728</td>\n",
       "      <td>19.0</td>\n",
       "      <td>1866.97620</td>\n",
       "      <td>18.943</td>\n",
       "    </tr>\n",
       "  </tbody>\n",
       "</table>\n",
       "<p>194 rows × 5 columns</p>\n",
       "</div>"
      ],
      "text/plain": [
       "                   a         b  n_obsv     Delta_t     mag\n",
       "1.0    -2.680724e-08  0.040775    28.0   373.96306  19.424\n",
       "6.0    -1.852071e-07  0.002414    62.0   337.09354  18.028\n",
       "7.0    -4.449947e-09  0.010728    23.0  1406.26669  18.338\n",
       "8.0    -3.541916e-09  0.015740    56.0  1507.14889  18.363\n",
       "10.0   -6.104179e-05  0.036631    18.0    31.11950  17.751\n",
       "11.0   -1.852526e-08  0.005603    22.0   434.01071  16.977\n",
       "12.0   -1.828311e-08  0.008031    77.0   384.35496  18.526\n",
       "13.0   -6.052254e-08  0.021532    62.0   392.97989  18.901\n",
       "15.0   -4.578020e-08  0.019107    72.0   392.97989  18.993\n",
       "16.0    1.200225e-06  0.026167    12.0    72.91513  19.612\n",
       "17.0   -1.313716e-09  0.008129    24.0  1803.03786  17.810\n",
       "18.0    7.177520e-10  0.000756    34.0  1414.17868  15.698\n",
       "90.0   -3.392973e-08  0.040179    11.0   770.71314  19.722\n",
       "91.0    2.265816e-09  0.000371   223.0  1784.05772  14.790\n",
       "95.0    2.195158e-09  0.002477    23.0   803.90163  18.217\n",
       "96.0   -2.233255e-08  0.096563    25.0   888.79562  20.785\n",
       "99.0    3.490880e-09  0.005794    75.0  1774.00404  18.163\n",
       "100.0  -4.187871e-05  0.021408    21.0    24.28407  18.727\n",
       "117.0   1.051445e-11  0.001721    74.0  1825.20439  17.479\n",
       "197.0  -1.123458e-08  0.022227    28.0   777.76999  18.030\n",
       "199.0  -3.365345e-09  0.006882   111.0  1481.26134  18.322\n",
       "200.0   8.248524e-09  0.048673   102.0  1145.19753  19.544\n",
       "201.0   1.736148e-06  0.031734    12.0    72.91513  19.556\n",
       "202.0   1.324626e-09  0.000963   226.0  1427.02771  17.218\n",
       "203.0  -1.727544e-08  0.015560    19.0   666.06943  18.949\n",
       "205.0   1.346528e-08  0.010782    19.0  1395.98827  18.877\n",
       "207.0  -1.793860e-08  0.019251   120.0  1086.14127  19.413\n",
       "208.0   1.555432e-10  0.001813    82.0  1889.01476  17.931\n",
       "263.0   2.954635e-09  0.000341   215.0  1338.70162  15.994\n",
       "265.0   6.391272e-08  0.006158    47.0    60.99607  17.986\n",
       "...              ...       ...     ...         ...     ...\n",
       "1574.0 -6.878182e-07  0.014638    95.0    58.89533  17.910\n",
       "1576.0 -5.091757e-10  0.006504    80.0  1991.33621  18.227\n",
       "1586.0 -2.808009e-09  0.046014   152.0  1879.24528  19.585\n",
       "1587.0 -4.946995e-09  0.015839    15.0  1144.14193  16.518\n",
       "1588.0  2.555419e-08  0.009481   102.0  1440.22100  18.486\n",
       "1655.0 -7.133519e-09  0.015665    44.0   480.94727  18.450\n",
       "1658.0 -2.072683e-08  0.076265    12.0  1382.11392  20.529\n",
       "1661.0 -5.624774e-07  0.053828   292.0  1116.28860  19.245\n",
       "1663.0 -9.779867e-10  0.000315    73.0   394.93802   0.000\n",
       "1664.0 -5.741390e-09  0.016098    16.0  1143.99063  19.383\n",
       "1665.0 -1.978945e-10  0.001602    25.0  1764.27118  16.584\n",
       "1666.0 -2.763986e-09  0.021049    22.0  1147.13027  16.800\n",
       "1671.0 -1.510213e-10  0.011109   228.0  1875.06767  17.866\n",
       "1733.0  8.054849e-06  0.030208    22.0    37.01064  19.610\n",
       "1735.0 -1.041445e-08  0.014758    15.0   756.08300  19.568\n",
       "1736.0 -1.437405e-09  0.007340    37.0   790.10667  17.969\n",
       "1737.0 -8.576410e-09  0.007495   216.0  1139.86383  18.418\n",
       "1740.0 -1.465467e-08  0.011082    13.0   766.25132  18.897\n",
       "1741.0 -4.154795e-10  0.000491    20.0   750.09413  17.297\n",
       "1742.0 -2.072547e-09  0.005392    71.0  1363.31009  17.888\n",
       "1744.0 -3.560618e-09  0.005733    25.0  1396.25652  17.181\n",
       "1745.0  1.295202e-07  0.059875   221.0  1794.00617  20.370\n",
       "1747.0 -7.683093e-08  0.017312    66.0   326.11016  18.905\n",
       "1757.0 -1.509490e-05  0.030429    26.0    34.04384  18.953\n",
       "1811.0 -9.368251e-10  0.002615    25.0  1397.02025  18.315\n",
       "1812.0 -1.281993e-07  0.030049    39.0   660.35213  18.642\n",
       "1813.0 -1.129723e-08  0.007872    46.0  1001.09031  18.443\n",
       "1814.0 -1.557385e-09  0.017738    41.0  1991.33621  18.996\n",
       "1815.0 -3.284433e-09  0.011458    50.0  1890.92819  17.769\n",
       "1817.0 -6.913238e-10  0.009728    19.0  1866.97620  18.943\n",
       "\n",
       "[194 rows x 5 columns]"
      ]
     },
     "execution_count": 272,
     "metadata": {},
     "output_type": "execute_result"
    }
   ],
   "source": [
    "summary"
   ]
  },
  {
   "cell_type": "code",
   "execution_count": 274,
   "metadata": {
    "collapsed": false
   },
   "outputs": [],
   "source": [
    "summary.to_pickle('summary_df')"
   ]
  },
  {
   "cell_type": "markdown",
   "metadata": {},
   "source": [
    "# Short analysis of results"
   ]
  },
  {
   "cell_type": "code",
   "execution_count": 34,
   "metadata": {
    "collapsed": false
   },
   "outputs": [
    {
     "name": "stdout",
     "output_type": "stream",
     "text": [
      "iapetus\n",
      "Current time: 2017-04-18 09:58:38.118019\n"
     ]
    }
   ],
   "source": [
    "import numpy as np\n",
    "import matplotlib.pyplot as plt\n",
    "import matplotlib.mlab as mlab\n",
    "import os\n",
    "import math\n",
    "import sys\n",
    "import csv\n",
    "import pandas as pd\n",
    "import datetime\n",
    "import socket\n",
    "import pickle\n",
    "print(socket.gethostname())\n",
    "%matplotlib inline\n",
    "\n",
    "def fit_func(x, a, b):\n",
    "    return a*x**2 + b\n",
    "\n",
    "if socket.gethostname()=='Osian':\n",
    "    base_dir=\"/home/caplarn/Documents/Variability/PTFBeatriz/\"\n",
    "else:\n",
    "    base_dir=\"/export/data1/caplarn/Documents/Variability/PTFBeatriz/\"\n",
    "    \n",
    "print('Current time: '+str(datetime.datetime.now()))       "
   ]
  },
  {
   "cell_type": "code",
   "execution_count": 11,
   "metadata": {
    "collapsed": false
   },
   "outputs": [],
   "source": [
    "os.chdir(base_dir+'LC_Full/')\n",
    "summary=pickle.load( open('summary_df', \"rb\" ) )"
   ]
  },
  {
   "cell_type": "code",
   "execution_count": null,
   "metadata": {
    "collapsed": true
   },
   "outputs": [],
   "source": [
    "# What values of variable 'a' are we looking for?\n",
    "# I want that SF(100 days) is probably SF(100 days)>0.05 mag\n",
    "# That means SF**2(100 days)>0.0025 mag**2\n",
    "# That means a>0.000025 mag**2/day (a>2.5*10**-5)\n",
    "# That means log10(a)>-4.6"
   ]
  },
  {
   "cell_type": "code",
   "execution_count": 27,
   "metadata": {
    "collapsed": false
   },
   "outputs": [
    {
     "data": {
      "text/plain": [
       "<matplotlib.lines.Line2D at 0x7f78cc788e50>"
      ]
     },
     "execution_count": 27,
     "metadata": {},
     "output_type": "execute_result"
    },
    {
     "data": {
      "image/png": "[encoded data removed]",
      "text/plain": [
       "<matplotlib.figure.Figure at 0x7f78cc6cae50>"
      ]
     },
     "metadata": {},
     "output_type": "display_data"
    }
   ],
   "source": [
    "# the histogram of the data\n",
    "n, bins, patches = plt.hist(np.log10(summary[summary['a']>0]['a'].values), 10, facecolor='green', alpha=0.75)\n",
    "plt.axvline(x=-4.6, color='r', linestyle='dashed', linewidth=2)"
   ]
  },
  {
   "cell_type": "code",
   "execution_count": 39,
   "metadata": {
    "collapsed": false
   },
   "outputs": [],
   "source": [
    "weakcandidates=summary[np.log10(summary['a'].values)>-6]"
   ]
  },
  {
   "cell_type": "code",
   "execution_count": 60,
   "metadata": {
    "collapsed": false
   },
   "outputs": [],
   "source": [
    "lc_dir=base_dir+\"LC_Full/\"\n",
    "os.chdir(lc_dir)\n",
    "import os\n",
    "from astropy.io import ascii\n",
    "\n",
    "data = ascii.read('ptf.ptf_lightcurves26083.tbl')"
   ]
  },
  {
   "cell_type": "code",
   "execution_count": 85,
   "metadata": {
    "collapsed": false
   },
   "outputs": [
    {
     "data": {
      "image/png": "[encoded data removed]",
      "text/plain": [
       "<matplotlib.figure.Figure at 0x7f78cc76f310>"
      ]
     },
     "metadata": {},
     "output_type": "display_data"
    }
   ],
   "source": [
    "from scipy.signal import medfilt\n",
    "SingleLC_Clean=data[data['cntr_01']==weakcandidates.index[0]]\n",
    "ligth_curve=np.sort(np.c_[np.ma.getdata(SingleLC_Clean['mag_autocorr']),np.ma.getdata(SingleLC_Clean['obsmjd'])])\n",
    "#very stupid way to change columns so that first collumn is date, second magnitude  \n",
    "helplc=np.copy(ligth_curve[:,0])\n",
    "ligth_curve[:,0]=ligth_curve[:,1]\n",
    "ligth_curve[:,1]=helplc\n",
    "ligth_curve_sort=ligth_curve[ligth_curve[:,0].argsort()]\n",
    "#remove observations for which the observed magnitude is below zero\n",
    "ligth_curve_sort=ligth_curve_sort[ligth_curve_sort[:,1]>0]\n",
    "#time difference between the first and the last observation\n",
    "time_duration_of_LC=ligth_curve_sort[-1][0]-ligth_curve_sort[0][0]\n",
    "#very rough cleaning of the light curve, employing 0.5 mag cut from the median light curve (5 observations wide bin)\n",
    "TimesAndDifferencesFromMedian=np.column_stack((ligth_curve_sort[:,0],ligth_curve_sort[:,1]-medfilt(ligth_curve_sort[:,1],5)))\n",
    "ligth_curve_sort_and_clean=ligth_curve_sort[np.abs(TimesAndDifferencesFromMedian[:,1])<0.5]\n",
    "#plot the light curve\n",
    "x_log=ligth_curve_sort_and_clean[:,0]\n",
    "y_log=ligth_curve_sort_and_clean[:,1]\n",
    "plt.errorbar(x_log, y_log,label=str(SingleLC_Clean[0][0]),marker='o')\n",
    "legend = plt.legend(loc='lower right', shadow=True)\n",
    "plt.xlabel('MJD')\n",
    "plt.ylabel('mag')\n",
    "\n",
    "array_of_magnitude_differences = [];\n",
    "for n in range(len(ligth_curve_sort_and_clean)-1):\n",
    "    array_of_magnitude_differences.append(ligth_curve_sort_and_clean[n]-ligth_curve_sort_and_clean[n+1:])\n",
    "array_of_magnitude_differences=np.vstack(array_of_magnitude_differences)\n",
    "array_of_magnitude_differences[:,0]=array_of_magnitude_differences[:,0]*(-1)\n",
    "Structure_Function_Log_Bins = [];\n",
    "Array_Of_Log_Limits=np.percentile(np.log10(array_of_magnitude_differences[:,0]),range(0,100,5))\n",
    "for n in range(1,len(Array_Of_Log_Limits)-1):\n",
    "    single_bin=array_of_magnitude_differences[((Array_Of_Log_Limits[n])<=(np.log10(array_of_magnitude_differences[:,0])))&((np.log10(array_of_magnitude_differences[:,0]))<=Array_Of_Log_Limits[n+1])]   \n",
    "    Structure_Function_Log_Bins.append([np.mean(single_bin[:,0]),np.var(single_bin[:,1])])\n",
    "Structure_Function_Log_Bins1=np.vstack(Structure_Function_Log_Bins)"
   ]
  },
  {
   "cell_type": "code",
   "execution_count": 86,
   "metadata": {
    "collapsed": false
   },
   "outputs": [
    {
     "data": {
      "image/png": "[encoded data removed]",
      "text/plain": [
       "<matplotlib.figure.Figure at 0x7f789ed2c150>"
      ]
     },
     "metadata": {},
     "output_type": "display_data"
    }
   ],
   "source": [
    "from scipy.signal import medfilt\n",
    "SingleLC_Clean=data[data['cntr_01']==weakcandidates.index[1]]\n",
    "ligth_curve=np.sort(np.c_[np.ma.getdata(SingleLC_Clean['mag_autocorr']),np.ma.getdata(SingleLC_Clean['obsmjd'])])\n",
    "#very stupid way to change columns so that first collumn is date, second magnitude  \n",
    "helplc=np.copy(ligth_curve[:,0])\n",
    "ligth_curve[:,0]=ligth_curve[:,1]\n",
    "ligth_curve[:,1]=helplc\n",
    "ligth_curve_sort=ligth_curve[ligth_curve[:,0].argsort()]\n",
    "#remove observations for which the observed magnitude is below zero\n",
    "ligth_curve_sort=ligth_curve_sort[ligth_curve_sort[:,1]>0]\n",
    "#time difference between the first and the last observation\n",
    "time_duration_of_LC=ligth_curve_sort[-1][0]-ligth_curve_sort[0][0]\n",
    "#very rough cleaning of the light curve, employing 0.5 mag cut from the median light curve (5 observations wide bin)\n",
    "TimesAndDifferencesFromMedian=np.column_stack((ligth_curve_sort[:,0],ligth_curve_sort[:,1]-medfilt(ligth_curve_sort[:,1],5)))\n",
    "ligth_curve_sort_and_clean=ligth_curve_sort[np.abs(TimesAndDifferencesFromMedian[:,1])<0.5]\n",
    "#plot the light curve\n",
    "x_log=ligth_curve_sort_and_clean[:,0]\n",
    "y_log=ligth_curve_sort_and_clean[:,1]\n",
    "plt.errorbar(x_log, y_log,label=str(SingleLC_Clean[0][0]),marker='o')\n",
    "legend = plt.legend(loc='lower right', shadow=True)\n",
    "plt.xlabel('MJD')\n",
    "plt.ylabel('mag')\n",
    "\n",
    "array_of_magnitude_differences = [];\n",
    "for n in range(len(ligth_curve_sort_and_clean)-1):\n",
    "    array_of_magnitude_differences.append(ligth_curve_sort_and_clean[n]-ligth_curve_sort_and_clean[n+1:])\n",
    "array_of_magnitude_differences=np.vstack(array_of_magnitude_differences)\n",
    "array_of_magnitude_differences[:,0]=array_of_magnitude_differences[:,0]*(-1)\n",
    "Structure_Function_Log_Bins = [];\n",
    "Array_Of_Log_Limits=np.percentile(np.log10(array_of_magnitude_differences[:,0]),range(0,100,5))\n",
    "for n in range(1,len(Array_Of_Log_Limits)-1):\n",
    "    single_bin=array_of_magnitude_differences[((Array_Of_Log_Limits[n])<=(np.log10(array_of_magnitude_differences[:,0])))&((np.log10(array_of_magnitude_differences[:,0]))<=Array_Of_Log_Limits[n+1])]   \n",
    "    Structure_Function_Log_Bins.append([np.mean(single_bin[:,0]),np.var(single_bin[:,1])])\n",
    "Structure_Function_Log_Bins2=np.vstack(Structure_Function_Log_Bins)"
   ]
  },
  {
   "cell_type": "code",
   "execution_count": 87,
   "metadata": {
    "collapsed": false
   },
   "outputs": [
    {
     "data": {
      "image/png": "[encoded data removed]",
      "text/plain": [
       "<matplotlib.figure.Figure at 0x7f78907d2d10>"
      ]
     },
     "metadata": {},
     "output_type": "display_data"
    }
   ],
   "source": [
    "from scipy.signal import medfilt\n",
    "SingleLC_Clean=data[data['cntr_01']==weakcandidates.index[2]]\n",
    "ligth_curve=np.sort(np.c_[np.ma.getdata(SingleLC_Clean['mag_autocorr']),np.ma.getdata(SingleLC_Clean['obsmjd'])])\n",
    "#very stupid way to change columns so that first collumn is date, second magnitude  \n",
    "helplc=np.copy(ligth_curve[:,0])\n",
    "ligth_curve[:,0]=ligth_curve[:,1]\n",
    "ligth_curve[:,1]=helplc\n",
    "ligth_curve_sort=ligth_curve[ligth_curve[:,0].argsort()]\n",
    "#remove observations for which the observed magnitude is below zero\n",
    "ligth_curve_sort=ligth_curve_sort[ligth_curve_sort[:,1]>0]\n",
    "#time difference between the first and the last observation\n",
    "time_duration_of_LC=ligth_curve_sort[-1][0]-ligth_curve_sort[0][0]\n",
    "#very rough cleaning of the light curve, employing 0.5 mag cut from the median light curve (5 observations wide bin)\n",
    "TimesAndDifferencesFromMedian=np.column_stack((ligth_curve_sort[:,0],ligth_curve_sort[:,1]-medfilt(ligth_curve_sort[:,1],5)))\n",
    "ligth_curve_sort_and_clean=ligth_curve_sort[np.abs(TimesAndDifferencesFromMedian[:,1])<0.5]\n",
    "#plot the light curve\n",
    "x_log=ligth_curve_sort_and_clean[:,0]\n",
    "y_log=ligth_curve_sort_and_clean[:,1]\n",
    "plt.errorbar(x_log, y_log,label=str(SingleLC_Clean[0][0]),marker='o')\n",
    "legend = plt.legend(loc='lower right', shadow=True)\n",
    "plt.xlabel('MJD')\n",
    "plt.ylabel('mag')\n",
    "\n",
    "array_of_magnitude_differences = [];\n",
    "for n in range(len(ligth_curve_sort_and_clean)-1):\n",
    "    array_of_magnitude_differences.append(ligth_curve_sort_and_clean[n]-ligth_curve_sort_and_clean[n+1:])\n",
    "array_of_magnitude_differences=np.vstack(array_of_magnitude_differences)\n",
    "array_of_magnitude_differences[:,0]=array_of_magnitude_differences[:,0]*(-1)\n",
    "Structure_Function_Log_Bins = [];\n",
    "Array_Of_Log_Limits=np.percentile(np.log10(array_of_magnitude_differences[:,0]),range(0,100,5))\n",
    "for n in range(1,len(Array_Of_Log_Limits)-1):\n",
    "    single_bin=array_of_magnitude_differences[((Array_Of_Log_Limits[n])<=(np.log10(array_of_magnitude_differences[:,0])))&((np.log10(array_of_magnitude_differences[:,0]))<=Array_Of_Log_Limits[n+1])]   \n",
    "    Structure_Function_Log_Bins.append([np.mean(single_bin[:,0]),np.var(single_bin[:,1])])\n",
    "Structure_Function_Log_Bins3=np.vstack(Structure_Function_Log_Bins)"
   ]
  },
  {
   "cell_type": "code",
   "execution_count": 88,
   "metadata": {
    "collapsed": false
   },
   "outputs": [
    {
     "data": {
      "image/png": "[encoded data removed]",
      "text/plain": [
       "<matplotlib.figure.Figure at 0x7f78cc76f1d0>"
      ]
     },
     "metadata": {},
     "output_type": "display_data"
    }
   ],
   "source": [
    "from scipy.signal import medfilt\n",
    "SingleLC_Clean=data[data['cntr_01']==weakcandidates.index[3]]\n",
    "ligth_curve=np.sort(np.c_[np.ma.getdata(SingleLC_Clean['mag_autocorr']),np.ma.getdata(SingleLC_Clean['obsmjd'])])\n",
    "#very stupid way to change columns so that first collumn is date, second magnitude  \n",
    "helplc=np.copy(ligth_curve[:,0])\n",
    "ligth_curve[:,0]=ligth_curve[:,1]\n",
    "ligth_curve[:,1]=helplc\n",
    "ligth_curve_sort=ligth_curve[ligth_curve[:,0].argsort()]\n",
    "#remove observations for which the observed magnitude is below zero\n",
    "ligth_curve_sort=ligth_curve_sort[ligth_curve_sort[:,1]>0]\n",
    "#time difference between the first and the last observation\n",
    "time_duration_of_LC=ligth_curve_sort[-1][0]-ligth_curve_sort[0][0]\n",
    "#very rough cleaning of the light curve, employing 0.5 mag cut from the median light curve (5 observations wide bin)\n",
    "TimesAndDifferencesFromMedian=np.column_stack((ligth_curve_sort[:,0],ligth_curve_sort[:,1]-medfilt(ligth_curve_sort[:,1],5)))\n",
    "ligth_curve_sort_and_clean=ligth_curve_sort[np.abs(TimesAndDifferencesFromMedian[:,1])<0.5]\n",
    "#plot the light curve\n",
    "x_log=ligth_curve_sort_and_clean[:,0]\n",
    "y_log=ligth_curve_sort_and_clean[:,1]\n",
    "plt.errorbar(x_log, y_log,label=str(SingleLC_Clean[0][0]),marker='o')\n",
    "legend = plt.legend(loc='lower right', shadow=True)\n",
    "plt.xlabel('MJD')\n",
    "plt.ylabel('mag')\n",
    "\n",
    "array_of_magnitude_differences = [];\n",
    "for n in range(len(ligth_curve_sort_and_clean)-1):\n",
    "    array_of_magnitude_differences.append(ligth_curve_sort_and_clean[n]-ligth_curve_sort_and_clean[n+1:])\n",
    "array_of_magnitude_differences=np.vstack(array_of_magnitude_differences)\n",
    "array_of_magnitude_differences[:,0]=array_of_magnitude_differences[:,0]*(-1)\n",
    "Structure_Function_Log_Bins = [];\n",
    "Array_Of_Log_Limits=np.percentile(np.log10(array_of_magnitude_differences[:,0]),range(0,100,5))\n",
    "for n in range(1,len(Array_Of_Log_Limits)-1):\n",
    "    single_bin=array_of_magnitude_differences[((Array_Of_Log_Limits[n])<=(np.log10(array_of_magnitude_differences[:,0])))&((np.log10(array_of_magnitude_differences[:,0]))<=Array_Of_Log_Limits[n+1])]   \n",
    "    Structure_Function_Log_Bins.append([np.mean(single_bin[:,0]),np.var(single_bin[:,1])])\n",
    "Structure_Function_Log_Bins4=np.vstack(Structure_Function_Log_Bins)"
   ]
  },
  {
   "cell_type": "code",
   "execution_count": 90,
   "metadata": {
    "collapsed": false
   },
   "outputs": [
    {
     "data": {
      "image/png": "[encoded data removed]",
      "text/plain": [
       "<matplotlib.figure.Figure at 0x7f78982e90d0>"
      ]
     },
     "metadata": {},
     "output_type": "display_data"
    }
   ],
   "source": [
    "from scipy.signal import medfilt\n",
    "SingleLC_Clean=data[data['cntr_01']==weakcandidates.index[4]]\n",
    "ligth_curve=np.sort(np.c_[np.ma.getdata(SingleLC_Clean['mag_autocorr']),np.ma.getdata(SingleLC_Clean['obsmjd'])])\n",
    "#very stupid way to change columns so that first collumn is date, second magnitude  \n",
    "helplc=np.copy(ligth_curve[:,0])\n",
    "ligth_curve[:,0]=ligth_curve[:,1]\n",
    "ligth_curve[:,1]=helplc\n",
    "ligth_curve_sort=ligth_curve[ligth_curve[:,0].argsort()]\n",
    "#remove observations for which the observed magnitude is below zero\n",
    "ligth_curve_sort=ligth_curve_sort[ligth_curve_sort[:,1]>0]\n",
    "#time difference between the first and the last observation\n",
    "time_duration_of_LC=ligth_curve_sort[-1][0]-ligth_curve_sort[0][0]\n",
    "#very rough cleaning of the light curve, employing 0.5 mag cut from the median light curve (5 observations wide bin)\n",
    "TimesAndDifferencesFromMedian=np.column_stack((ligth_curve_sort[:,0],ligth_curve_sort[:,1]-medfilt(ligth_curve_sort[:,1],5)))\n",
    "ligth_curve_sort_and_clean=ligth_curve_sort[np.abs(TimesAndDifferencesFromMedian[:,1])<0.5]\n",
    "#plot the light curve\n",
    "x_log=ligth_curve_sort_and_clean[:,0]\n",
    "y_log=ligth_curve_sort_and_clean[:,1]\n",
    "plt.errorbar(x_log, y_log,label=str(SingleLC_Clean[0][0]),marker='o')\n",
    "legend = plt.legend(loc='lower right', shadow=True)\n",
    "plt.xlabel('MJD')\n",
    "plt.ylabel('mag')\n",
    "\n",
    "array_of_magnitude_differences = [];\n",
    "for n in range(len(ligth_curve_sort_and_clean)-1):\n",
    "    array_of_magnitude_differences.append(ligth_curve_sort_and_clean[n]-ligth_curve_sort_and_clean[n+1:])\n",
    "array_of_magnitude_differences=np.vstack(array_of_magnitude_differences)\n",
    "array_of_magnitude_differences[:,0]=array_of_magnitude_differences[:,0]*(-1)\n",
    "Structure_Function_Log_Bins = [];\n",
    "Array_Of_Log_Limits=np.percentile(np.log10(array_of_magnitude_differences[:,0]),range(0,100,5))\n",
    "for n in range(1,len(Array_Of_Log_Limits)-1):\n",
    "    single_bin=array_of_magnitude_differences[((Array_Of_Log_Limits[n])<=(np.log10(array_of_magnitude_differences[:,0])))&((np.log10(array_of_magnitude_differences[:,0]))<=Array_Of_Log_Limits[n+1])]   \n",
    "    Structure_Function_Log_Bins.append([np.mean(single_bin[:,0]),np.var(single_bin[:,1])])\n",
    "Structure_Function_Log_Bins5=np.vstack(Structure_Function_Log_Bins)"
   ]
  },
  {
   "cell_type": "code",
   "execution_count": 109,
   "metadata": {
    "collapsed": false
   },
   "outputs": [
    {
     "data": {
      "image/png": "[encoded data removed]",
      "text/plain": [
       "<matplotlib.figure.Figure at 0x7f789d187250>"
      ]
     },
     "metadata": {},
     "output_type": "display_data"
    }
   ],
   "source": [
    "# lets look at the data\n",
    "\n",
    "t = np.linspace(0.1,400,400)\n",
    "f1=np.log10(fit_func(t, weakcandidates.iat[0,0], weakcandidates.iat[0,1]))\n",
    "f2=np.log10(fit_func(t, weakcandidates.iat[1,0], weakcandidates.iat[1,1]))\n",
    "f3=np.log10(fit_func(t, weakcandidates.iat[2,0], weakcandidates.iat[2,1]))\n",
    "f4=np.log10(fit_func(t, weakcandidates.iat[3,0], weakcandidates.iat[3,1]))\n",
    "f5=np.log10(fit_func(t, weakcandidates.iat[4,0], weakcandidates.iat[4,1]))\n",
    "\n",
    "x1_log=np.log10(Structure_Function_Log_Bins1[:,0])\n",
    "y1_log=np.log10(Structure_Function_Log_Bins1[:,1])\n",
    "plt.plot(x1_log,y1_log,label='16',marker='o',color='r')\n",
    "x2_log=np.log10(Structure_Function_Log_Bins2[:,0])\n",
    "y2_log=np.log10(Structure_Function_Log_Bins2[:,1])\n",
    "plt.plot(x2_log,y2_log,label='201',marker='o',color='b')\n",
    "x3_log=np.log10(Structure_Function_Log_Bins3[:,0])\n",
    "y3_log=np.log10(Structure_Function_Log_Bins3[:,1])\n",
    "plt.plot(x3_log,y3_log,label='433',marker='o',color='g')\n",
    "x4_log=np.log10(Structure_Function_Log_Bins4[:,0])\n",
    "y4_log=np.log10(Structure_Function_Log_Bins4[:,1])\n",
    "plt.plot(x4_log,y4_log,label='567',marker='o',color='y')\n",
    "x5_log=np.log10(Structure_Function_Log_Bins5[:,0])\n",
    "y5_log=np.log10(Structure_Function_Log_Bins5[:,1])\n",
    "plt.plot(x5_log,y5_log,label='1733',marker='o',color='black')\n",
    "\n",
    "plt.gca().set_color_cycle(['r', 'b', 'g', 'y','black'])\n",
    "plt.plot(np.log10(t), f1, np.log10(t), f2, np.log10(t), f3, np.log10(t), f4, np.log10(t), f5)\n",
    "plt.legend(['16', '201', '433', '567','1733'], loc='upper left')\n",
    "plt.show()\n"
   ]
  },
  {
   "cell_type": "code",
   "execution_count": null,
   "metadata": {
    "collapsed": true
   },
   "outputs": [],
   "source": [
    "# fit with index which can be adjusted\n",
    "# see what is good way to find AGN (some simulation needed)"
   ]
  },
  {
   "cell_type": "code",
   "execution_count": 110,
   "metadata": {
    "collapsed": false
   },
   "outputs": [
    {
     "data": {
      "text/plain": [
       "array([[  5.50894444e+04,   1.95540000e+01],\n",
       "       [  5.50894890e+04,   1.94840000e+01],\n",
       "       [  5.51373231e+04,   1.98970000e+01],\n",
       "       [  5.51373676e+04,   1.98980000e+01],\n",
       "       [  5.56491506e+04,   2.14440000e+01],\n",
       "       [  5.56501789e+04,   2.09590000e+01],\n",
       "       [  5.56531573e+04,   2.10600000e+01],\n",
       "       [  5.56532216e+04,   2.10840000e+01],\n",
       "       [  5.56541744e+04,   2.12830000e+01],\n",
       "       [  5.56542191e+04,   2.11110000e+01],\n",
       "       [  5.56551995e+04,   2.12550000e+01],\n",
       "       [  5.56562512e+04,   2.09270000e+01],\n",
       "       [  5.56582296e+04,   2.10490000e+01],\n",
       "       [  5.56582738e+04,   2.09800000e+01],\n",
       "       [  5.56871939e+04,   2.10910000e+01],\n",
       "       [  5.62294667e+04,   1.92380000e+01],\n",
       "       [  5.62295046e+04,   1.96050000e+01],\n",
       "       [  5.62353011e+04,   1.94550000e+01],\n",
       "       [  5.62364783e+04,   1.94890000e+01],\n",
       "       [  5.62365497e+04,   1.97520000e+01],\n",
       "       [  5.62374611e+04,   1.96710000e+01],\n",
       "       [  5.62375328e+04,   1.95910000e+01],\n",
       "       [  5.62384534e+04,   1.96210000e+01],\n",
       "       [  5.62385283e+04,   1.96990000e+01],\n",
       "       [  5.62394418e+04,   1.96450000e+01],\n",
       "       [  5.62395176e+04,   1.96340000e+01],\n",
       "       [  5.62523984e+04,   1.96300000e+01],\n",
       "       [  5.62524696e+04,   1.95190000e+01],\n",
       "       [  5.62535289e+04,   1.96130000e+01],\n",
       "       [  5.62542406e+04,   1.99370000e+01],\n",
       "       [  5.62543129e+04,   1.93540000e+01],\n",
       "       [  5.62554675e+04,   1.96480000e+01],\n",
       "       [  5.62555397e+04,   1.95370000e+01],\n",
       "       [  5.62584168e+04,   1.96240000e+01],\n",
       "       [  5.62594555e+04,   1.97090000e+01],\n",
       "       [  5.62663976e+04,   1.98340000e+01],\n",
       "       [  5.62664774e+04,   1.95210000e+01],\n",
       "       [  5.66593945e+04,   2.12330000e+01],\n",
       "       [  5.66594519e+04,   2.12730000e+01],\n",
       "       [  5.66604465e+04,   2.12000000e+01],\n",
       "       [  5.66604755e+04,   2.10360000e+01],\n",
       "       [  5.66605035e+04,   2.10680000e+01]])"
      ]
     },
     "execution_count": 110,
     "metadata": {},
     "output_type": "execute_result"
    }
   ],
   "source": [
    "ligth_curve_sort_and_clean"
   ]
  },
  {
   "cell_type": "code",
   "execution_count": null,
   "metadata": {
    "collapsed": true
   },
   "outputs": [],
   "source": []
  }
 ],
 "metadata": {
  "anaconda-cloud": {},
  "kernelspec": {
   "display_name": "Python 2",
   "language": "python",
   "name": "python2"
  },
  "language_info": {
   "codemirror_mode": {
    "name": "ipython",
    "version": 2
   },
   "file_extension": ".py",
   "mimetype": "text/x-python",
   "name": "python",
   "nbconvert_exporter": "python",
   "pygments_lexer": "ipython2",
   "version": "2.7.12"
  }
 },
 "nbformat": 4,
 "nbformat_minor": 2
}
