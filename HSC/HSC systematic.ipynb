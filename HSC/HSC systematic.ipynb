{
 "cells": [
  {
   "cell_type": "code",
   "execution_count": 1,
   "metadata": {},
   "outputs": [
    {
     "name": "stdout",
     "output_type": "stream",
     "text": [
      "3.6.5 |Anaconda custom (64-bit)| (default, Mar 29 2018, 13:14:23) \n",
      "[GCC 4.2.1 Compatible Clang 4.0.1 (tags/RELEASE_401/final)]\n"
     ]
    }
   ],
   "source": [
    "import sys\n",
    "print(sys.version)"
   ]
  },
  {
   "cell_type": "code",
   "execution_count": null,
   "metadata": {
    "collapsed": true
   },
   "outputs": [],
   "source": [
    "\"\"\"\n",
    "Created on June 14 2019\n",
    "@author:\n",
    "@contact:\n",
    "\"\"\""
   ]
  },
  {
   "cell_type": "code",
   "execution_count": 2,
   "metadata": {},
   "outputs": [
    {
     "data": {
      "application/javascript": [
       "try {\n",
       "  require(['base/js/utils'], function (utils) {\n",
       "    utils.load_extension('code_prettify/code_prettify');\n",
       "    utils.load_extension('collapsible_headings/main'); \n",
       "    utils.load_extension('codefolding/edit'); \n",
       "    utils.load_extension('codefolding/main'); \n",
       "    utils.load_extension('execute_time/ExecuteTime');   \n",
       "    utils.load_extension('toc2/main'); \n",
       "  });\n",
       "}\n",
       "catch (err) {\n",
       "  console.log('toc2 load error:', err);\n",
       "}"
      ],
      "text/plain": [
       "<IPython.core.display.Javascript object>"
      ]
     },
     "metadata": {},
     "output_type": "display_data"
    }
   ],
   "source": [
    "%%javascript\n",
    "try {\n",
    "  require(['base/js/utils'], function (utils) {\n",
    "    utils.load_extension('code_prettify/code_prettify');\n",
    "    utils.load_extension('collapsible_headings/main'); \n",
    "    utils.load_extension('codefolding/edit'); \n",
    "    utils.load_extension('codefolding/main'); \n",
    "    utils.load_extension('execute_time/ExecuteTime');   \n",
    "    utils.load_extension('toc2/main'); \n",
    "  });\n",
    "}\n",
    "catch (err) {\n",
    "  console.log('toc2 load error:', err);\n",
    "}"
   ]
  },
  {
   "cell_type": "code",
   "execution_count": 3,
   "metadata": {
    "ExecuteTime": {
     "end_time": "2019-06-14T16:16:29.087500Z",
     "start_time": "2019-06-14T16:16:29.082665Z"
    }
   },
   "outputs": [
    {
     "data": {
      "text/html": [
       "<style>.container { width:100% !important; }</style>"
      ],
      "text/plain": [
       "<IPython.core.display.HTML object>"
      ]
     },
     "metadata": {},
     "output_type": "display_data"
    }
   ],
   "source": [
    "# make notebook nice and wide to fill the entire screen\n",
    "from IPython.core.display import display, HTML\n",
    "display(HTML(\"<style>.container { width:100% !important; }</style>\"))"
   ]
  },
  {
   "cell_type": "code",
   "execution_count": 4,
   "metadata": {
    "ExecuteTime": {
     "end_time": "2019-06-14T16:16:45.862453Z",
     "start_time": "2019-06-14T16:16:44.521019Z"
    },
    "collapsed": true
   },
   "outputs": [],
   "source": [
    "#matplotlib\n",
    "import matplotlib\n",
    "import matplotlib.pyplot as plt\n",
    "from matplotlib.colors import LogNorm\n",
    "matplotlib.rcParams.update({'font.size': 16})\n",
    "%config InlineBackend.rc = {}\n",
    "%matplotlib inline\n",
    "%config IPython.matplotlib.backend = \"retina\"\n",
    "\n",
    "import numpy as np\n",
    "import pandas as pd\n",
    "from tqdm import tqdm\n",
    "from sklearn.metrics.pairwise import euclidean_distances\n",
    "\n",
    "# modify path here\n",
    "DATA_DIRECTORY='/Users/nevencaplar/Documents/Variability/Github/Variability/HSC/'"
   ]
  },
  {
   "cell_type": "markdown",
   "metadata": {},
   "source": [
    "# Loading SDSS DR7 sample"
   ]
  },
  {
   "cell_type": "code",
   "execution_count": 5,
   "metadata": {
    "ExecuteTime": {
     "end_time": "2019-06-14T16:38:23.792967Z",
     "start_time": "2019-06-14T16:38:15.244243Z"
    }
   },
   "outputs": [
    {
     "name": "stderr",
     "output_type": "stream",
     "text": [
      "Skipping line 305: Expected 75 fields in line 305, saw 76. Error could possibly be due to quotes being ignored when a multi-char delimiter is used.\n",
      "Skipping line 1633: Expected 75 fields in line 1633, saw 76. Error could possibly be due to quotes being ignored when a multi-char delimiter is used.\n",
      "Skipping line 1745: Expected 75 fields in line 1745, saw 76. Error could possibly be due to quotes being ignored when a multi-char delimiter is used.\n",
      "Skipping line 1828: Expected 75 fields in line 1828, saw 76. Error could possibly be due to quotes being ignored when a multi-char delimiter is used.\n",
      "Skipping line 3631: Expected 75 fields in line 3631, saw 76. Error could possibly be due to quotes being ignored when a multi-char delimiter is used.\n",
      "Skipping line 4123: Expected 75 fields in line 4123, saw 76. Error could possibly be due to quotes being ignored when a multi-char delimiter is used.\n",
      "Skipping line 4124: Expected 75 fields in line 4124, saw 76. Error could possibly be due to quotes being ignored when a multi-char delimiter is used.\n",
      "Skipping line 4238: Expected 75 fields in line 4238, saw 76. Error could possibly be due to quotes being ignored when a multi-char delimiter is used.\n",
      "Skipping line 4248: Expected 75 fields in line 4248, saw 76. Error could possibly be due to quotes being ignored when a multi-char delimiter is used.\n",
      "Skipping line 5456: Expected 75 fields in line 5456, saw 76. Error could possibly be due to quotes being ignored when a multi-char delimiter is used.\n",
      "Skipping line 6375: Expected 75 fields in line 6375, saw 76. Error could possibly be due to quotes being ignored when a multi-char delimiter is used.\n",
      "Skipping line 10353: Expected 75 fields in line 10353, saw 76. Error could possibly be due to quotes being ignored when a multi-char delimiter is used.\n",
      "Skipping line 14972: Expected 75 fields in line 14972, saw 76. Error could possibly be due to quotes being ignored when a multi-char delimiter is used.\n",
      "Skipping line 18544: Expected 75 fields in line 18544, saw 76. Error could possibly be due to quotes being ignored when a multi-char delimiter is used.\n",
      "Skipping line 18641: Expected 75 fields in line 18641, saw 76. Error could possibly be due to quotes being ignored when a multi-char delimiter is used.\n",
      "Skipping line 18809: Expected 75 fields in line 18809, saw 76. Error could possibly be due to quotes being ignored when a multi-char delimiter is used.\n",
      "Skipping line 21010: Expected 75 fields in line 21010, saw 76. Error could possibly be due to quotes being ignored when a multi-char delimiter is used.\n",
      "Skipping line 21361: Expected 75 fields in line 21361, saw 76. Error could possibly be due to quotes being ignored when a multi-char delimiter is used.\n",
      "Skipping line 21437: Expected 75 fields in line 21437, saw 76. Error could possibly be due to quotes being ignored when a multi-char delimiter is used.\n",
      "Skipping line 23667: Expected 75 fields in line 23667, saw 76. Error could possibly be due to quotes being ignored when a multi-char delimiter is used.\n",
      "Skipping line 24564: Expected 75 fields in line 24564, saw 76. Error could possibly be due to quotes being ignored when a multi-char delimiter is used.\n",
      "Skipping line 25106: Expected 75 fields in line 25106, saw 76. Error could possibly be due to quotes being ignored when a multi-char delimiter is used.\n",
      "Skipping line 25702: Expected 75 fields in line 25702, saw 76. Error could possibly be due to quotes being ignored when a multi-char delimiter is used.\n",
      "Skipping line 25756: Expected 75 fields in line 25756, saw 76. Error could possibly be due to quotes being ignored when a multi-char delimiter is used.\n",
      "Skipping line 26759: Expected 75 fields in line 26759, saw 76. Error could possibly be due to quotes being ignored when a multi-char delimiter is used.\n",
      "Skipping line 28490: Expected 75 fields in line 28490, saw 76. Error could possibly be due to quotes being ignored when a multi-char delimiter is used.\n",
      "Skipping line 28815: Expected 75 fields in line 28815, saw 76. Error could possibly be due to quotes being ignored when a multi-char delimiter is used.\n",
      "Skipping line 29963: Expected 75 fields in line 29963, saw 76. Error could possibly be due to quotes being ignored when a multi-char delimiter is used.\n",
      "Skipping line 33691: Expected 75 fields in line 33691, saw 76. Error could possibly be due to quotes being ignored when a multi-char delimiter is used.\n",
      "Skipping line 33920: Expected 75 fields in line 33920, saw 76. Error could possibly be due to quotes being ignored when a multi-char delimiter is used.\n",
      "Skipping line 34775: Expected 75 fields in line 34775, saw 76. Error could possibly be due to quotes being ignored when a multi-char delimiter is used.\n",
      "Skipping line 35598: Expected 75 fields in line 35598, saw 76. Error could possibly be due to quotes being ignored when a multi-char delimiter is used.\n",
      "Skipping line 36729: Expected 75 fields in line 36729, saw 76. Error could possibly be due to quotes being ignored when a multi-char delimiter is used.\n",
      "Skipping line 37012: Expected 75 fields in line 37012, saw 76. Error could possibly be due to quotes being ignored when a multi-char delimiter is used.\n",
      "Skipping line 40860: Expected 75 fields in line 40860, saw 76. Error could possibly be due to quotes being ignored when a multi-char delimiter is used.\n",
      "Skipping line 41001: Expected 75 fields in line 41001, saw 76. Error could possibly be due to quotes being ignored when a multi-char delimiter is used.\n",
      "Skipping line 41012: Expected 75 fields in line 41012, saw 76. Error could possibly be due to quotes being ignored when a multi-char delimiter is used.\n",
      "Skipping line 41076: Expected 75 fields in line 41076, saw 76. Error could possibly be due to quotes being ignored when a multi-char delimiter is used.\n",
      "Skipping line 41080: Expected 75 fields in line 41080, saw 76. Error could possibly be due to quotes being ignored when a multi-char delimiter is used.\n",
      "Skipping line 41268: Expected 75 fields in line 41268, saw 76. Error could possibly be due to quotes being ignored when a multi-char delimiter is used.\n",
      "Skipping line 41335: Expected 75 fields in line 41335, saw 76. Error could possibly be due to quotes being ignored when a multi-char delimiter is used.\n",
      "Skipping line 41952: Expected 75 fields in line 41952, saw 76. Error could possibly be due to quotes being ignored when a multi-char delimiter is used.\n",
      "Skipping line 42080: Expected 75 fields in line 42080, saw 76. Error could possibly be due to quotes being ignored when a multi-char delimiter is used.\n",
      "Skipping line 42206: Expected 75 fields in line 42206, saw 76. Error could possibly be due to quotes being ignored when a multi-char delimiter is used.\n",
      "Skipping line 43184: Expected 75 fields in line 43184, saw 76. Error could possibly be due to quotes being ignored when a multi-char delimiter is used.\n",
      "Skipping line 43655: Expected 75 fields in line 43655, saw 77. Error could possibly be due to quotes being ignored when a multi-char delimiter is used.\n",
      "Skipping line 43770: Expected 75 fields in line 43770, saw 76. Error could possibly be due to quotes being ignored when a multi-char delimiter is used.\n",
      "Skipping line 43857: Expected 75 fields in line 43857, saw 76. Error could possibly be due to quotes being ignored when a multi-char delimiter is used.\n",
      "Skipping line 44262: Expected 75 fields in line 44262, saw 76. Error could possibly be due to quotes being ignored when a multi-char delimiter is used.\n",
      "Skipping line 45311: Expected 75 fields in line 45311, saw 77. Error could possibly be due to quotes being ignored when a multi-char delimiter is used.\n",
      "Skipping line 49664: Expected 75 fields in line 49664, saw 76. Error could possibly be due to quotes being ignored when a multi-char delimiter is used.\n",
      "Skipping line 49762: Expected 75 fields in line 49762, saw 76. Error could possibly be due to quotes being ignored when a multi-char delimiter is used.\n",
      "Skipping line 51345: Expected 75 fields in line 51345, saw 76. Error could possibly be due to quotes being ignored when a multi-char delimiter is used.\n",
      "Skipping line 53261: Expected 75 fields in line 53261, saw 76. Error could possibly be due to quotes being ignored when a multi-char delimiter is used.\n",
      "Skipping line 53752: Expected 75 fields in line 53752, saw 76. Error could possibly be due to quotes being ignored when a multi-char delimiter is used.\n",
      "Skipping line 55282: Expected 75 fields in line 55282, saw 76. Error could possibly be due to quotes being ignored when a multi-char delimiter is used.\n",
      "Skipping line 55324: Expected 75 fields in line 55324, saw 76. Error could possibly be due to quotes being ignored when a multi-char delimiter is used.\n",
      "Skipping line 55515: Expected 75 fields in line 55515, saw 76. Error could possibly be due to quotes being ignored when a multi-char delimiter is used.\n",
      "Skipping line 55734: Expected 75 fields in line 55734, saw 76. Error could possibly be due to quotes being ignored when a multi-char delimiter is used.\n",
      "Skipping line 56635: Expected 75 fields in line 56635, saw 76. Error could possibly be due to quotes being ignored when a multi-char delimiter is used.\n",
      "Skipping line 57989: Expected 75 fields in line 57989, saw 76. Error could possibly be due to quotes being ignored when a multi-char delimiter is used.\n",
      "Skipping line 57996: Expected 75 fields in line 57996, saw 76. Error could possibly be due to quotes being ignored when a multi-char delimiter is used.\n",
      "Skipping line 58059: Expected 75 fields in line 58059, saw 76. Error could possibly be due to quotes being ignored when a multi-char delimiter is used.\n",
      "Skipping line 58108: Expected 75 fields in line 58108, saw 76. Error could possibly be due to quotes being ignored when a multi-char delimiter is used.\n",
      "Skipping line 58647: Expected 75 fields in line 58647, saw 76. Error could possibly be due to quotes being ignored when a multi-char delimiter is used.\n",
      "Skipping line 60159: Expected 75 fields in line 60159, saw 76. Error could possibly be due to quotes being ignored when a multi-char delimiter is used.\n",
      "Skipping line 60198: Expected 75 fields in line 60198, saw 76. Error could possibly be due to quotes being ignored when a multi-char delimiter is used.\n",
      "Skipping line 60200: Expected 75 fields in line 60200, saw 76. Error could possibly be due to quotes being ignored when a multi-char delimiter is used.\n",
      "Skipping line 60376: Expected 75 fields in line 60376, saw 76. Error could possibly be due to quotes being ignored when a multi-char delimiter is used.\n",
      "Skipping line 61344: Expected 75 fields in line 61344, saw 76. Error could possibly be due to quotes being ignored when a multi-char delimiter is used.\n",
      "Skipping line 63658: Expected 75 fields in line 63658, saw 76. Error could possibly be due to quotes being ignored when a multi-char delimiter is used.\n",
      "Skipping line 63750: Expected 75 fields in line 63750, saw 76. Error could possibly be due to quotes being ignored when a multi-char delimiter is used.\n",
      "Skipping line 64216: Expected 75 fields in line 64216, saw 76. Error could possibly be due to quotes being ignored when a multi-char delimiter is used.\n",
      "Skipping line 64294: Expected 75 fields in line 64294, saw 76. Error could possibly be due to quotes being ignored when a multi-char delimiter is used.\n",
      "Skipping line 64299: Expected 75 fields in line 64299, saw 76. Error could possibly be due to quotes being ignored when a multi-char delimiter is used.\n",
      "Skipping line 64390: Expected 75 fields in line 64390, saw 76. Error could possibly be due to quotes being ignored when a multi-char delimiter is used.\n",
      "Skipping line 64437: Expected 75 fields in line 64437, saw 76. Error could possibly be due to quotes being ignored when a multi-char delimiter is used.\n",
      "Skipping line 64737: Expected 75 fields in line 64737, saw 76. Error could possibly be due to quotes being ignored when a multi-char delimiter is used.\n",
      "Skipping line 64758: Expected 75 fields in line 64758, saw 76. Error could possibly be due to quotes being ignored when a multi-char delimiter is used.\n",
      "Skipping line 64998: Expected 75 fields in line 64998, saw 76. Error could possibly be due to quotes being ignored when a multi-char delimiter is used.\n",
      "Skipping line 65354: Expected 75 fields in line 65354, saw 76. Error could possibly be due to quotes being ignored when a multi-char delimiter is used.\n",
      "Skipping line 65391: Expected 75 fields in line 65391, saw 76. Error could possibly be due to quotes being ignored when a multi-char delimiter is used.\n",
      "Skipping line 65410: Expected 75 fields in line 65410, saw 76. Error could possibly be due to quotes being ignored when a multi-char delimiter is used.\n",
      "Skipping line 65484: Expected 75 fields in line 65484, saw 76. Error could possibly be due to quotes being ignored when a multi-char delimiter is used.\n",
      "Skipping line 65549: Expected 75 fields in line 65549, saw 76. Error could possibly be due to quotes being ignored when a multi-char delimiter is used.\n",
      "Skipping line 66970: Expected 75 fields in line 66970, saw 76. Error could possibly be due to quotes being ignored when a multi-char delimiter is used.\n",
      "Skipping line 67337: Expected 75 fields in line 67337, saw 76. Error could possibly be due to quotes being ignored when a multi-char delimiter is used.\n",
      "Skipping line 67414: Expected 75 fields in line 67414, saw 76. Error could possibly be due to quotes being ignored when a multi-char delimiter is used.\n",
      "Skipping line 67433: Expected 75 fields in line 67433, saw 76. Error could possibly be due to quotes being ignored when a multi-char delimiter is used.\n",
      "Skipping line 70145: Expected 75 fields in line 70145, saw 76. Error could possibly be due to quotes being ignored when a multi-char delimiter is used.\n",
      "Skipping line 70234: Expected 75 fields in line 70234, saw 76. Error could possibly be due to quotes being ignored when a multi-char delimiter is used.\n",
      "Skipping line 70328: Expected 75 fields in line 70328, saw 76. Error could possibly be due to quotes being ignored when a multi-char delimiter is used.\n",
      "Skipping line 70340: Expected 75 fields in line 70340, saw 76. Error could possibly be due to quotes being ignored when a multi-char delimiter is used.\n",
      "Skipping line 70791: Expected 75 fields in line 70791, saw 76. Error could possibly be due to quotes being ignored when a multi-char delimiter is used.\n",
      "Skipping line 70869: Expected 75 fields in line 70869, saw 76. Error could possibly be due to quotes being ignored when a multi-char delimiter is used.\n",
      "Skipping line 71018: Expected 75 fields in line 71018, saw 76. Error could possibly be due to quotes being ignored when a multi-char delimiter is used.\n",
      "Skipping line 71408: Expected 75 fields in line 71408, saw 76. Error could possibly be due to quotes being ignored when a multi-char delimiter is used.\n",
      "Skipping line 71577: Expected 75 fields in line 71577, saw 76. Error could possibly be due to quotes being ignored when a multi-char delimiter is used.\n",
      "Skipping line 73150: Expected 75 fields in line 73150, saw 76. Error could possibly be due to quotes being ignored when a multi-char delimiter is used.\n",
      "Skipping line 73750: Expected 75 fields in line 73750, saw 76. Error could possibly be due to quotes being ignored when a multi-char delimiter is used.\n",
      "Skipping line 76006: Expected 75 fields in line 76006, saw 76. Error could possibly be due to quotes being ignored when a multi-char delimiter is used.\n",
      "Skipping line 76498: Expected 75 fields in line 76498, saw 76. Error could possibly be due to quotes being ignored when a multi-char delimiter is used.\n",
      "Skipping line 77443: Expected 75 fields in line 77443, saw 76. Error could possibly be due to quotes being ignored when a multi-char delimiter is used.\n",
      "Skipping line 80801: Expected 75 fields in line 80801, saw 76. Error could possibly be due to quotes being ignored when a multi-char delimiter is used.\n",
      "Skipping line 84050: Expected 75 fields in line 84050, saw 76. Error could possibly be due to quotes being ignored when a multi-char delimiter is used.\n",
      "Skipping line 84659: Expected 75 fields in line 84659, saw 76. Error could possibly be due to quotes being ignored when a multi-char delimiter is used.\n",
      "Skipping line 86016: Expected 75 fields in line 86016, saw 76. Error could possibly be due to quotes being ignored when a multi-char delimiter is used.\n",
      "Skipping line 86039: Expected 75 fields in line 86039, saw 76. Error could possibly be due to quotes being ignored when a multi-char delimiter is used.\n",
      "Skipping line 90294: Expected 75 fields in line 90294, saw 76. Error could possibly be due to quotes being ignored when a multi-char delimiter is used.\n",
      "Skipping line 90473: Expected 75 fields in line 90473, saw 76. Error could possibly be due to quotes being ignored when a multi-char delimiter is used.\n",
      "Skipping line 92343: Expected 75 fields in line 92343, saw 76. Error could possibly be due to quotes being ignored when a multi-char delimiter is used.\n",
      "Skipping line 95203: Expected 75 fields in line 95203, saw 76. Error could possibly be due to quotes being ignored when a multi-char delimiter is used.\n",
      "Skipping line 95289: Expected 75 fields in line 95289, saw 76. Error could possibly be due to quotes being ignored when a multi-char delimiter is used.\n",
      "Skipping line 95312: Expected 75 fields in line 95312, saw 76. Error could possibly be due to quotes being ignored when a multi-char delimiter is used.\n",
      "Skipping line 95765: Expected 75 fields in line 95765, saw 76. Error could possibly be due to quotes being ignored when a multi-char delimiter is used.\n",
      "Skipping line 95782: Expected 75 fields in line 95782, saw 76. Error could possibly be due to quotes being ignored when a multi-char delimiter is used.\n",
      "Skipping line 95836: Expected 75 fields in line 95836, saw 76. Error could possibly be due to quotes being ignored when a multi-char delimiter is used.\n",
      "Skipping line 95909: Expected 75 fields in line 95909, saw 76. Error could possibly be due to quotes being ignored when a multi-char delimiter is used.\n",
      "Skipping line 96288: Expected 75 fields in line 96288, saw 76. Error could possibly be due to quotes being ignored when a multi-char delimiter is used.\n",
      "Skipping line 96969: Expected 75 fields in line 96969, saw 76. Error could possibly be due to quotes being ignored when a multi-char delimiter is used.\n",
      "Skipping line 97028: Expected 75 fields in line 97028, saw 76. Error could possibly be due to quotes being ignored when a multi-char delimiter is used.\n",
      "Skipping line 97031: Expected 75 fields in line 97031, saw 76. Error could possibly be due to quotes being ignored when a multi-char delimiter is used.\n",
      "Skipping line 97048: Expected 75 fields in line 97048, saw 76. Error could possibly be due to quotes being ignored when a multi-char delimiter is used.\n",
      "Skipping line 97062: Expected 75 fields in line 97062, saw 76. Error could possibly be due to quotes being ignored when a multi-char delimiter is used.\n",
      "Skipping line 98324: Expected 75 fields in line 98324, saw 76. Error could possibly be due to quotes being ignored when a multi-char delimiter is used.\n",
      "Skipping line 99100: Expected 75 fields in line 99100, saw 76. Error could possibly be due to quotes being ignored when a multi-char delimiter is used.\n",
      "Skipping line 102999: Expected 75 fields in line 102999, saw 76. Error could possibly be due to quotes being ignored when a multi-char delimiter is used.\n",
      "Skipping line 103217: Expected 75 fields in line 103217, saw 76. Error could possibly be due to quotes being ignored when a multi-char delimiter is used.\n",
      "Skipping line 104899: Expected 75 fields in line 104899, saw 76. Error could possibly be due to quotes being ignored when a multi-char delimiter is used.\n",
      "Skipping line 105110: Expected 75 fields in line 105110, saw 76. Error could possibly be due to quotes being ignored when a multi-char delimiter is used.\n",
      "Skipping line 105200: Expected 75 fields in line 105200, saw 76. Error could possibly be due to quotes being ignored when a multi-char delimiter is used.\n",
      "Skipping line 105212: Expected 75 fields in line 105212, saw 76. Error could possibly be due to quotes being ignored when a multi-char delimiter is used.\n",
      "Skipping line 105288: Expected 75 fields in line 105288, saw 76. Error could possibly be due to quotes being ignored when a multi-char delimiter is used.\n",
      "Skipping line 105387: Expected 75 fields in line 105387, saw 76. Error could possibly be due to quotes being ignored when a multi-char delimiter is used.\n",
      "Skipping line 105406: Expected 75 fields in line 105406, saw 76. Error could possibly be due to quotes being ignored when a multi-char delimiter is used.\n",
      "Skipping line 105498: Expected 75 fields in line 105498, saw 76. Error could possibly be due to quotes being ignored when a multi-char delimiter is used.\n",
      "Skipping line 105527: Expected 75 fields in line 105527, saw 76. Error could possibly be due to quotes being ignored when a multi-char delimiter is used.\n",
      "Skipping line 105768: Expected 75 fields in line 105768, saw 76. Error could possibly be due to quotes being ignored when a multi-char delimiter is used.\n"
     ]
    }
   ],
   "source": [
    "# This is dr7 qso catalog from https://classic.sdss.org/dr7/products/value_added/qsocat_dr7.html\n",
    "\n",
    "dr7 = pd.read_csv(DATA_DIRECTORY+'dr7qso.dat',skiprows=80,sep='\\s+',engine='python', error_bad_lines=False, header=None )\n",
    "Positions_of_dr7=np.transpose([dr7[1].values,dr7[2].values])"
   ]
  },
  {
   "cell_type": "code",
   "execution_count": null,
   "metadata": {
    "collapsed": true
   },
   "outputs": [],
   "source": [
    "#extract ra and dec values for SQL query\n",
    "\n",
    "data = np.zeros(len(Positions_of_dr7), dtype={'names':('ra', 'dec'),\n",
    "                          'formats':('f8','f8')})\n",
    "\n",
    "data['ra'] = Positions_of_dr7[:,0]\n",
    "data['dec'] =  Positions_of_dr7[:,1]\n",
    "\n",
    "PositionOfQuasars=data\n",
    "\n",
    "np.save(DATA_DIRECTORY+'PositionOfQuasars',PositionOfQuasars)"
   ]
  },
  {
   "cell_type": "code",
   "execution_count": null,
   "metadata": {
    "collapsed": true
   },
   "outputs": [],
   "source": [
    "PositionOfQuasar=np.load(DATA_DIRECTORY+'PositionOfQuasars.npy')"
   ]
  },
  {
   "cell_type": "code",
   "execution_count": null,
   "metadata": {
    "collapsed": true
   },
   "outputs": [],
   "source": []
  }
 ],
 "metadata": {
  "kernelspec": {
   "display_name": "Python 3",
   "language": "python",
   "name": "python3"
  },
  "language_info": {
   "codemirror_mode": {
    "name": "ipython",
    "version": 3
   },
   "file_extension": ".py",
   "mimetype": "text/x-python",
   "name": "python",
   "nbconvert_exporter": "python",
   "pygments_lexer": "ipython3",
   "version": "3.6.5"
  },
  "toc": {
   "base_numbering": 1,
   "nav_menu": {},
   "number_sections": true,
   "sideBar": true,
   "skip_h1_title": false,
   "title_cell": "Table of Contents",
   "title_sidebar": "Contents",
   "toc_cell": false,
   "toc_position": {},
   "toc_section_display": true,
   "toc_window_display": false
  }
 },
 "nbformat": 4,
 "nbformat_minor": 2
}
