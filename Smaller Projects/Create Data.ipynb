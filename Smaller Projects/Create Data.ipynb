{
 "cells": [
  {
   "cell_type": "code",
   "execution_count": 1,
   "metadata": {},
   "outputs": [],
   "source": [
    "import numpy as np\n",
    "from matplotlib import pyplot as plt\n",
    "from astroML.time_series import generate_power_law\n",
    "from astroML.fourier import PSD_continuous\n",
    "\n",
    "import matplotlib\n",
    "matplotlib.rcParams.update({'font.size': 22})\n",
    "%config InlineBackend.rc = {}\n",
    "%matplotlib inline\n",
    "\n",
    "#import statments\n",
    "from __future__ import absolute_import, division, print_function"
   ]
  },
  {
   "cell_type": "code",
   "execution_count": 21,
   "metadata": {},
   "outputs": [
    {
     "data": {
      "text/plain": [
       "<matplotlib.figure.Figure at 0x1100d45d0>"
      ]
     },
     "metadata": {},
     "output_type": "display_data"
    }
   ],
   "source": [
    "N = 10000\n",
    "dt = 1\n",
    "factor = 100\n",
    "beta=4\n",
    "t = dt * np.arange(N)\n",
    "random_state = np.random.RandomState(1)\n",
    "\n",
    "fig = plt.figure(figsize=(5, 3.75))\n",
    "fig.subplots_adjust(wspace=0.05)\n",
    "\n",
    "x = -19+factor * generate_power_law(N, dt, beta, random_state=random_state)"
   ]
  },
  {
   "cell_type": "code",
   "execution_count": 22,
   "metadata": {},
   "outputs": [
    {
     "data": {
      "text/plain": [
       "[<matplotlib.lines.Line2D at 0x11071b410>]"
      ]
     },
     "execution_count": 22,
     "metadata": {},
     "output_type": "execute_result"
    },
    {
     "data": {
      "image/png": "[encoded data removed]",
      "text/plain": [
       "<matplotlib.figure.Figure at 0x11012fa90>"
      ]
     },
     "metadata": {},
     "output_type": "display_data"
    }
   ],
   "source": [
    "plt.plot(x)"
   ]
  },
  {
   "cell_type": "code",
   "execution_count": 12,
   "metadata": {
    "collapsed": true
   },
   "outputs": [],
   "source": [
    "twoyears=np.concatenate((np.random.randint(1000,1100,20),np.random.randint(1000+365,1100+365,20)),axis=0)"
   ]
  },
  {
   "cell_type": "code",
   "execution_count": 13,
   "metadata": {
    "collapsed": true
   },
   "outputs": [],
   "source": [
    "threeyears=np.concatenate((twoyears,np.random.randint(1000+2*365,1100+2*365,20)),axis=0)"
   ]
  },
  {
   "cell_type": "code",
   "execution_count": 14,
   "metadata": {
    "collapsed": true
   },
   "outputs": [],
   "source": [
    "fouryears=np.concatenate((threeyears,np.random.randint(1000+3*365,1100+3*365,20)),axis=0)\n",
    "fouryears=np.sort(fouryears)"
   ]
  },
  {
   "cell_type": "code",
   "execution_count": 15,
   "metadata": {},
   "outputs": [
    {
     "data": {
      "text/plain": [
       "[<matplotlib.lines.Line2D at 0x10ff7af10>]"
      ]
     },
     "execution_count": 15,
     "metadata": {},
     "output_type": "execute_result"
    },
    {
     "data": {
      "image/png": "[encoded data removed]",
      "text/plain": [
       "<matplotlib.figure.Figure at 0x10fe65a90>"
      ]
     },
     "metadata": {},
     "output_type": "display_data"
    }
   ],
   "source": [
    "plt.plot(fouryears,x[fouryears],'o')"
   ]
  },
  {
   "cell_type": "code",
   "execution_count": 57,
   "metadata": {
    "collapsed": true
   },
   "outputs": [],
   "source": [
    "err=list(np.ones((80,1))*1/10)"
   ]
  },
  {
   "cell_type": "code",
   "execution_count": 71,
   "metadata": {
    "collapsed": true
   },
   "outputs": [],
   "source": [
    "res=np.transpose(np.array([fouryears,x[fouryears],err]))"
   ]
  },
  {
   "cell_type": "code",
   "execution_count": 72,
   "metadata": {},
   "outputs": [
    {
     "data": {
      "text/plain": [
       "array([[  1.00100000e+03,  -1.80328517e+01,   1.00000000e-01],\n",
       "       [  1.00200000e+03,  -1.86736088e+01,   1.00000000e-01],\n",
       "       [  1.00800000e+03,  -1.98734606e+01,   1.00000000e-01],\n",
       "       [  1.01100000e+03,  -1.85611777e+01,   1.00000000e-01],\n",
       "       [  1.01300000e+03,  -1.70409880e+01,   1.00000000e-01],\n",
       "       [  1.02400000e+03,  -1.86438553e+01,   1.00000000e-01],\n",
       "       [  1.02600000e+03,  -2.03189334e+01,   1.00000000e-01],\n",
       "       [  1.02600000e+03,  -2.03189334e+01,   1.00000000e-01],\n",
       "       [  1.03100000e+03,  -1.87688512e+01,   1.00000000e-01],\n",
       "       [  1.03200000e+03,  -1.86504272e+01,   1.00000000e-01],\n",
       "       [  1.04000000e+03,  -1.54415932e+01,   1.00000000e-01],\n",
       "       [  1.04800000e+03,  -1.82399601e+01,   1.00000000e-01],\n",
       "       [  1.06900000e+03,  -2.01313549e+01,   1.00000000e-01],\n",
       "       [  1.07000000e+03,  -1.89863771e+01,   1.00000000e-01],\n",
       "       [  1.07900000e+03,  -1.93142644e+01,   1.00000000e-01],\n",
       "       [  1.08000000e+03,  -1.93159808e+01,   1.00000000e-01],\n",
       "       [  1.08300000e+03,  -1.81436368e+01,   1.00000000e-01],\n",
       "       [  1.08900000e+03,  -1.85656482e+01,   1.00000000e-01],\n",
       "       [  1.09600000e+03,  -1.94351681e+01,   1.00000000e-01],\n",
       "       [  1.09900000e+03,  -2.00565156e+01,   1.00000000e-01],\n",
       "       [  1.37200000e+03,  -2.08825207e+01,   1.00000000e-01],\n",
       "       [  1.37500000e+03,  -1.97580393e+01,   1.00000000e-01],\n",
       "       [  1.39200000e+03,  -1.93875359e+01,   1.00000000e-01],\n",
       "       [  1.39300000e+03,  -1.94259250e+01,   1.00000000e-01],\n",
       "       [  1.39700000e+03,  -1.80796405e+01,   1.00000000e-01],\n",
       "       [  1.40000000e+03,  -1.87243456e+01,   1.00000000e-01],\n",
       "       [  1.40000000e+03,  -1.87243456e+01,   1.00000000e-01],\n",
       "       [  1.41100000e+03,  -1.80298217e+01,   1.00000000e-01],\n",
       "       [  1.41900000e+03,  -1.92968862e+01,   1.00000000e-01],\n",
       "       [  1.42000000e+03,  -2.00278113e+01,   1.00000000e-01],\n",
       "       [  1.42100000e+03,  -1.86971850e+01,   1.00000000e-01],\n",
       "       [  1.42300000e+03,  -2.06465952e+01,   1.00000000e-01],\n",
       "       [  1.42700000e+03,  -1.80600575e+01,   1.00000000e-01],\n",
       "       [  1.42700000e+03,  -1.80600575e+01,   1.00000000e-01],\n",
       "       [  1.42700000e+03,  -1.80600575e+01,   1.00000000e-01],\n",
       "       [  1.43000000e+03,  -1.87456095e+01,   1.00000000e-01],\n",
       "       [  1.44500000e+03,  -2.01108935e+01,   1.00000000e-01],\n",
       "       [  1.45200000e+03,  -1.74758695e+01,   1.00000000e-01],\n",
       "       [  1.45300000e+03,  -1.90765653e+01,   1.00000000e-01],\n",
       "       [  1.45700000e+03,  -1.83640461e+01,   1.00000000e-01],\n",
       "       [  1.73000000e+03,  -1.93563759e+01,   1.00000000e-01],\n",
       "       [  1.73600000e+03,  -1.71837689e+01,   1.00000000e-01],\n",
       "       [  1.73600000e+03,  -1.71837689e+01,   1.00000000e-01],\n",
       "       [  1.76000000e+03,  -1.85619518e+01,   1.00000000e-01],\n",
       "       [  1.76400000e+03,  -1.80910599e+01,   1.00000000e-01],\n",
       "       [  1.76500000e+03,  -1.88783022e+01,   1.00000000e-01],\n",
       "       [  1.77400000e+03,  -1.92026606e+01,   1.00000000e-01],\n",
       "       [  1.78500000e+03,  -1.89414795e+01,   1.00000000e-01],\n",
       "       [  1.78800000e+03,  -2.06283328e+01,   1.00000000e-01],\n",
       "       [  1.79600000e+03,  -1.89156486e+01,   1.00000000e-01],\n",
       "       [  1.80000000e+03,  -1.86337695e+01,   1.00000000e-01],\n",
       "       [  1.80000000e+03,  -1.86337695e+01,   1.00000000e-01],\n",
       "       [  1.80200000e+03,  -1.87303101e+01,   1.00000000e-01],\n",
       "       [  1.80400000e+03,  -1.85991027e+01,   1.00000000e-01],\n",
       "       [  1.80900000e+03,  -2.03691249e+01,   1.00000000e-01],\n",
       "       [  1.80900000e+03,  -2.03691249e+01,   1.00000000e-01],\n",
       "       [  1.81400000e+03,  -1.72771662e+01,   1.00000000e-01],\n",
       "       [  1.81900000e+03,  -1.93755322e+01,   1.00000000e-01],\n",
       "       [  1.81900000e+03,  -1.93755322e+01,   1.00000000e-01],\n",
       "       [  1.82700000e+03,  -1.95664239e+01,   1.00000000e-01],\n",
       "       [  2.09900000e+03,  -2.04142248e+01,   1.00000000e-01],\n",
       "       [  2.09900000e+03,  -2.04142248e+01,   1.00000000e-01],\n",
       "       [  2.10300000e+03,  -1.85406094e+01,   1.00000000e-01],\n",
       "       [  2.11100000e+03,  -2.01059322e+01,   1.00000000e-01],\n",
       "       [  2.11500000e+03,  -1.89585266e+01,   1.00000000e-01],\n",
       "       [  2.11900000e+03,  -1.78457885e+01,   1.00000000e-01],\n",
       "       [  2.12000000e+03,  -1.97389354e+01,   1.00000000e-01],\n",
       "       [  2.13800000e+03,  -1.90842394e+01,   1.00000000e-01],\n",
       "       [  2.14700000e+03,  -2.06848483e+01,   1.00000000e-01],\n",
       "       [  2.14900000e+03,  -1.88003984e+01,   1.00000000e-01],\n",
       "       [  2.15100000e+03,  -1.70328729e+01,   1.00000000e-01],\n",
       "       [  2.15300000e+03,  -1.84924980e+01,   1.00000000e-01],\n",
       "       [  2.16500000e+03,  -2.00562321e+01,   1.00000000e-01],\n",
       "       [  2.16800000e+03,  -1.86663805e+01,   1.00000000e-01],\n",
       "       [  2.17200000e+03,  -1.86061053e+01,   1.00000000e-01],\n",
       "       [  2.18000000e+03,  -1.86342908e+01,   1.00000000e-01],\n",
       "       [  2.19100000e+03,  -1.97013184e+01,   1.00000000e-01],\n",
       "       [  2.19200000e+03,  -1.88542603e+01,   1.00000000e-01],\n",
       "       [  2.19300000e+03,  -1.92498028e+01,   1.00000000e-01],\n",
       "       [  2.19400000e+03,  -1.94565763e+01,   1.00000000e-01]])"
      ]
     },
     "execution_count": 72,
     "metadata": {},
     "output_type": "execute_result"
    }
   ],
   "source": [
    "res"
   ]
  },
  {
   "cell_type": "code",
   "execution_count": 81,
   "metadata": {
    "collapsed": true
   },
   "outputs": [],
   "source": [
    "import csv\n",
    "\n",
    "def csv_writer(data, path):\n",
    "    \"\"\"\n",
    "    Write data to a CSV file path\n",
    "    \"\"\"\n",
    "    with open(path, \"wb\") as csv_file:\n",
    "        writer = csv.writer(csv_file, delimiter=' ')\n",
    "        for line in data:\n",
    "            writer.writerow(line)\n",
    "\n",
    "csv_writer(res,'/Users/nevencaplar/Documents/Variability/Farr/CARMATutorial-master/Data/res0.dat')"
   ]
  },
  {
   "cell_type": "code",
   "execution_count": 74,
   "metadata": {
    "collapsed": true
   },
   "outputs": [],
   "source": [
    "np.save('/Users/nevencaplar/Documents/Variability/Farr/CARMATutorial-master/Data/res0.dat',res)"
   ]
  },
  {
   "cell_type": "code",
   "execution_count": null,
   "metadata": {
    "collapsed": true
   },
   "outputs": [],
   "source": []
  },
  {
   "cell_type": "code",
   "execution_count": 145,
   "metadata": {
    "collapsed": true
   },
   "outputs": [],
   "source": [
    "for i in range(10):\n",
    "    N = 10000\n",
    "    dt = 1\n",
    "    factor = 25\n",
    "    beta=0\n",
    "    t = dt * np.arange(N)\n",
    "    random_state = np.random.RandomState(i)\n",
    "\n",
    "    x =-19 +factor * generate_power_law(N, dt, beta, random_state=random_state)\n",
    "\n",
    "    twoyears=np.concatenate((np.random.randint(1000+0*365/2,1050+0*365/2,20),np.random.randint(1000+365/2,1100+365/2,20)),axis=0)\n",
    "    threeyears=np.concatenate((twoyears,np.random.randint(1000+2*365/2,1050+2*365/2,20)),axis=0)\n",
    "    fouryears=np.concatenate((threeyears,np.random.randint(1000+3*365/2,1050+3*365/2,20)),axis=0)\n",
    "    fouryears=np.sort(fouryears)\n",
    "    err=list(1/20*np.abs(np.random.normal(1, 0.2, 80)))\n",
    "    res=np.transpose(np.array([(fouryears-1000)+np.random.random_sample(80),np.round(x[fouryears],3),np.round(err,3)]))\n",
    "    csv_writer(res,'/Users/nevencaplar/Documents/Variability/Farr/CARMATutorial-master/Data/res'+str(i)+'.dat')"
   ]
  },
  {
   "cell_type": "code",
   "execution_count": 139,
   "metadata": {},
   "outputs": [
    {
     "data": {
      "text/plain": [
       "array([1002, 1005, 1009, 1011, 1011, 1012, 1014, 1023, 1023, 1031, 1032,\n",
       "       1034, 1035, 1036, 1037, 1037, 1039, 1040, 1047, 1049, 1185, 1185,\n",
       "       1194, 1198, 1200, 1201, 1203, 1203, 1211, 1227, 1240, 1245, 1248,\n",
       "       1253, 1254, 1256, 1257, 1263, 1267, 1279, 1367, 1371, 1372, 1373,\n",
       "       1374, 1376, 1377, 1378, 1380, 1381, 1383, 1386, 1394, 1396, 1397,\n",
       "       1404, 1408, 1410, 1414, 1414, 1548, 1550, 1555, 1557, 1557, 1560,\n",
       "       1561, 1563, 1567, 1567, 1568, 1568, 1570, 1576, 1577, 1579, 1584,\n",
       "       1584, 1586, 1594])"
      ]
     },
     "execution_count": 139,
     "metadata": {},
     "output_type": "execute_result"
    }
   ],
   "source": [
    "fouryears"
   ]
  },
  {
   "cell_type": "code",
   "execution_count": 140,
   "metadata": {},
   "outputs": [
    {
     "data": {
      "text/plain": [
       "array([ 0.89484863,  0.23194944,  0.62542694,  0.36677317,  0.15242279,\n",
       "        0.35880733,  0.95135331,  0.14746051,  0.86340204,  0.2387892 ,\n",
       "        0.18054737,  0.1379255 ,  0.99812337,  0.12599091,  0.90305614,\n",
       "        0.96177109,  0.66545133,  0.5697125 ,  0.83734542,  0.33959698,\n",
       "        0.5494554 ,  0.73581031,  0.92249103,  0.25937696,  0.6782121 ,\n",
       "        0.41847175,  0.78656112,  0.53576919,  0.05721687,  0.46585964,\n",
       "        0.50851887,  0.62885712,  0.93026872,  0.87420608,  0.80180493,\n",
       "        0.88823826,  0.94563071,  0.77950041,  0.83178432,  0.63311034,\n",
       "        0.5740627 ,  0.16891696,  0.79459834,  0.87595082,  0.12201667,\n",
       "        0.2240347 ,  0.26737529,  0.74988211,  0.53419552,  0.33741846,\n",
       "        0.86868534,  0.88400561,  0.79647228,  0.05352373,  0.92783609,\n",
       "        0.35147404,  0.47004199,  0.50027284,  0.23611976,  0.06614544,\n",
       "        0.99817531,  0.15108743,  0.94441161,  0.89949014,  0.37564323,\n",
       "        0.58915625,  0.60597497,  0.3709157 ,  0.32515712,  0.67010322,\n",
       "        0.43419661,  0.88485686,  0.8464306 ,  0.62469295,  0.78699391,\n",
       "        0.58378172,  0.7777112 ,  0.46287181,  0.70056572,  0.91051271])"
      ]
     },
     "execution_count": 140,
     "metadata": {},
     "output_type": "execute_result"
    }
   ],
   "source": [
    "np.random.random_sample(80)"
   ]
  },
  {
   "cell_type": "code",
   "execution_count": null,
   "metadata": {
    "collapsed": true
   },
   "outputs": [],
   "source": []
  }
 ],
 "metadata": {
  "kernelspec": {
   "display_name": "Python 2",
   "language": "python",
   "name": "python2"
  },
  "language_info": {
   "codemirror_mode": {
    "name": "ipython",
    "version": 2
   },
   "file_extension": ".py",
   "mimetype": "text/x-python",
   "name": "python",
   "nbconvert_exporter": "python",
   "pygments_lexer": "ipython2",
   "version": "2.7.14"
  }
 },
 "nbformat": 4,
 "nbformat_minor": 2
}
